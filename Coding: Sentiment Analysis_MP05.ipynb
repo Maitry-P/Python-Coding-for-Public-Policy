{
  "nbformat": 4,
  "nbformat_minor": 0,
  "metadata": {
    "celltoolbar": "Slideshow",
    "colab": {
      "name": "Coding: Sentiment Analysis_MP05.ipynb",
      "provenance": [],
      "collapsed_sections": [],
      "include_colab_link": true
    },
    "kernelspec": {
      "display_name": "Python 3",
      "language": "python",
      "name": "python3"
    },
    "language_info": {
      "codemirror_mode": {
        "name": "ipython",
        "version": 3
      },
      "file_extension": ".py",
      "mimetype": "text/x-python",
      "name": "python",
      "nbconvert_exporter": "python",
      "pygments_lexer": "ipython3",
      "version": "3.8.6"
    },
    "rise": {
      "scroll": true
    }
  },
  "cells": [
    {
      "cell_type": "markdown",
      "metadata": {
        "id": "view-in-github",
        "colab_type": "text"
      },
      "source": [
        "<a href=\"https://colab.research.google.com/github/Maitry-P/Python-Coding-for-Public-Policy/blob/main/Coding%3A%20Sentiment%20Analysis_MP05.ipynb\" target=\"_parent\"><img src=\"https://colab.research.google.com/assets/colab-badge.svg\" alt=\"Open In Colab\"/></a>"
      ]
    },
    {
      "cell_type": "markdown",
      "metadata": {
        "id": "F5DsWafyMCfG"
      },
      "source": [
        "## HOMEWORK - 05\n",
        "\n",
        "## Coding: Sentiment analysis\n",
        "\n",
        "Using the cleaned public comments dataset (https://nyu.box.com/shared/static/1zdvfmpy5452nqdlb5b1yho6m3bdihk9.csv), answer the questions below."
      ]
    },
    {
      "cell_type": "code",
      "metadata": {
        "id": "6Z0VvngaHgB8",
        "colab": {
          "base_uri": "https://localhost:8080/"
        },
        "outputId": "279d043e-1783-40e3-c984-5b5476fd658f"
      },
      "source": [
        "# Load Libraries\n",
        "!python -m spacy download en_core_web_md --quiet"
      ],
      "execution_count": null,
      "outputs": [
        {
          "output_type": "stream",
          "text": [
            "\u001b[K     |████████████████████████████████| 96.4MB 1.2MB/s \n",
            "\u001b[?25h  Building wheel for en-core-web-md (setup.py) ... \u001b[?25l\u001b[?25hdone\n",
            "\u001b[38;5;2m✔ Download and installation successful\u001b[0m\n",
            "You can now load the model via spacy.load('en_core_web_md')\n"
          ],
          "name": "stdout"
        }
      ]
    },
    {
      "cell_type": "code",
      "metadata": {
        "id": "SALU6HH0O8Bp"
      },
      "source": [
        "import en_core_web_sm\n",
        "nlp = en_core_web_sm.load()"
      ],
      "execution_count": null,
      "outputs": []
    },
    {
      "cell_type": "code",
      "metadata": {
        "id": "dAhSvj_GJesm"
      },
      "source": [
        "# Load Libraries\n",
        "import nltk \n",
        "import string\n",
        "from collections import Counter\n",
        "\n",
        "import matplotlib.pyplot as plt\n",
        "from nltk.corpus import stopwords\n",
        "from nltk.tokenize import word_tokenize\n",
        "from textblob import TextBlob\n",
        "from textblob.sentiments import NaiveBayesAnalyzer"
      ],
      "execution_count": null,
      "outputs": []
    },
    {
      "cell_type": "code",
      "metadata": {
        "colab": {
          "base_uri": "https://localhost:8080/",
          "height": 597
        },
        "id": "HHtWsIOipYiU",
        "outputId": "411bb8f6-d4d6-4dce-b768-645fdefca514"
      },
      "source": [
        "# Step-1 | Import Dataset\n",
        "import pandas as pd\n",
        "pd.options.display.max_colwidth = None\n",
        "\n",
        "df = pd.read_csv('https://nyu.box.com/shared/static/1zdvfmpy5452nqdlb5b1yho6m3bdihk9.csv')\n",
        "df.head()"
      ],
      "execution_count": null,
      "outputs": [
        {
          "output_type": "execute_result",
          "data": {
            "text/html": [
              "<div>\n",
              "<style scoped>\n",
              "    .dataframe tbody tr th:only-of-type {\n",
              "        vertical-align: middle;\n",
              "    }\n",
              "\n",
              "    .dataframe tbody tr th {\n",
              "        vertical-align: top;\n",
              "    }\n",
              "\n",
              "    .dataframe thead th {\n",
              "        text-align: right;\n",
              "    }\n",
              "</style>\n",
              "<table border=\"1\" class=\"dataframe\">\n",
              "  <thead>\n",
              "    <tr style=\"text-align: right;\">\n",
              "      <th></th>\n",
              "      <th>id</th>\n",
              "      <th>date</th>\n",
              "      <th>content</th>\n",
              "    </tr>\n",
              "  </thead>\n",
              "  <tbody>\n",
              "    <tr>\n",
              "      <th>0</th>\n",
              "      <td>DOT-OST-2018-0068-14971</td>\n",
              "      <td>2020-02-24T05:00:00Z</td>\n",
              "      <td>My wife was depressed on a daily basis. She cried all the time. Once we got our little puppy, my wife feels she has a purpose and has not cried since. She needs to have him with her when travelling or she is very stressed and depressed. He has made such a difference. Please don't take away the ability for our dog to travel with her.</td>\n",
              "    </tr>\n",
              "    <tr>\n",
              "      <th>1</th>\n",
              "      <td>DOT-OST-2018-0068-14917</td>\n",
              "      <td>2020-02-24T05:00:00Z</td>\n",
              "      <td>Docket number (DOT-OST-2018-0068) and the Regulatory ID number (RIN No. 2105-AE63)I am very much in favor of amended regulations that provide strict definitions for what type of animals might be permitted to accompany flyers in the cabin of commercial aircraft. As I have read the pending rules, only a properly trained service dog would fulfill the criteria to accompany a passenger with special needs in the cabin. The wide and random acceptance of  non-professional trained emotional support animals in the cabin of aircraft would cease. This is essential for the health and safety of the passengers at large as well as the hard working crew. I hope to see this change made very soon. Thank you.</td>\n",
              "    </tr>\n",
              "    <tr>\n",
              "      <th>2</th>\n",
              "      <td>DOT-OST-2018-0068-14918</td>\n",
              "      <td>2020-02-24T05:00:00Z</td>\n",
              "      <td>Service animals should be restricted to those animals previously designated to aid physically incapacitated individuals and emotional  support animals do not fulfil that category. Additionally dogs appear to be the only animal that I have observed capable of performing this task. All of the other pre-requisites appear to be reasonable  requirements.</td>\n",
              "    </tr>\n",
              "    <tr>\n",
              "      <th>3</th>\n",
              "      <td>DOT-OST-2018-0068-14919</td>\n",
              "      <td>2020-02-24T05:00:00Z</td>\n",
              "      <td>RE:  DOCKET NUMBER DOT-OST-2018-0068I am a psychotherapist who has worked with many people with PTSD and Severe panic attacks.  I have spoken with men whose PTSD, from serving in the military, has been so severe that they cannot go anywhere without their emotional support animals.  I have also treated people who have such bad  panic attacks that they become paralyzed or sometimes even faint.I implore you to not take away the privilege of these people having their ESAs on planes, to provide necessary comfort.  Just because you cannot see a disorder, doesn't mean  it doesn't exist.  I liken it to a domestic violence survivor who was emotionally abused.  His or her pain can be just as great as one who was physically abused.You will be doing a  tremendous disservice to people who legitimately need their ESAs, if you don't let these people travelwith them.  How can passengers prove that the service their ESAs serve is to help them feel safe? This is not an observerable task.Clearly people have abused this policy and that couldn't be more wrong.  However, there must be a better solution than what the DOT is proposing.  Some airlines are having passengers sign waivers that their pets are well-trained.  Can't that be enough?  Also, can't the proposal just consider allowing people with just dogs and cats as ESAs?Please consider what I have said.  If this rule is instituted, many people's lives will be severely negatively affected.Thank you.</td>\n",
              "    </tr>\n",
              "    <tr>\n",
              "      <th>4</th>\n",
              "      <td>DOT-OST-2018-0068-14920</td>\n",
              "      <td>2020-02-24T05:00:00Z</td>\n",
              "      <td>I really appreciate the time that has been spent to really create a workable definition for what should reasonably considered a service animal. I would like to take the time to comment as a frequent passenger of airlines, as my experience is limited to that specifically on the call for comment on restriction by breed. Cabin spaces can be incredibly confined and the presence of a dog that exhibits characteristics of Bully breeds might initially suggest that these dogs should be prohibited. However I would like to offer two counterpoints (1) Bully breeds vary in size and (2) Significant accommodation and allowance are made for large bags As in all breeds there is significant variance of size. While what some would consider pit bulls can be as large as boxers there are others that due to their mixed background are much smaller than a golden retriever or German shepherd which might be considered the poster dogs for service animals. Simply restricting on the basis of appearance of Bully breeding, is close but not sufficient as a workable definition and places legitimate service animals and their handlers at risk. Second, from a narrative standpoint, as a student I have consistently observed the large backpacks taken by students onto planes at the beginning or end of breaks. These bags stuffed with books, computers, and supplies are often too large to fit underneath the slightly smaller spaces allotted for the aisle and window seats. In my own experience, I have only known legitimate service dogs to sit in the front row where they have space to lay or in a separate reserved seat.  Given the tolerance we understandably extend to college students at the holidays, I think it would not be unreasonable to extend similar patience towards dogs that significantly improve and aid their handler's successful maneuvering through society.</td>\n",
              "    </tr>\n",
              "  </tbody>\n",
              "</table>\n",
              "</div>"
            ],
            "text/plain": [
              "                        id  ...                                                                                                                                                                                                                                                                                                                                                                                                                                                                                                                                                                                                                                                                                                                                                                                                                                                                                                                                                                                                                                                                                                                                                                                                                                                                                                                                                                                                                                                                                                                                                                                                                                                                                                                                                                                                                                                                                                                       content\n",
              "0  DOT-OST-2018-0068-14971  ...                                                                                                                                                                                                                                                                                                                                                                                                                                                                                                                                                                                                                                                                                                                                                                                                                                                                                                                                                                                                                                                                                                                                                                                                                                                                                                                                                                                                                                                                                                                                                                                My wife was depressed on a daily basis. She cried all the time. Once we got our little puppy, my wife feels she has a purpose and has not cried since. She needs to have him with her when travelling or she is very stressed and depressed. He has made such a difference. Please don't take away the ability for our dog to travel with her.\n",
              "1  DOT-OST-2018-0068-14917  ...                                                                                                                                                                                                                                                                                                                                                                                                                                                                                                                                                                                                                                                                                                                                                                                                                                                                                                                                                                                                                                                                                                                                                                                                   Docket number (DOT-OST-2018-0068) and the Regulatory ID number (RIN No. 2105-AE63)I am very much in favor of amended regulations that provide strict definitions for what type of animals might be permitted to accompany flyers in the cabin of commercial aircraft. As I have read the pending rules, only a properly trained service dog would fulfill the criteria to accompany a passenger with special needs in the cabin. The wide and random acceptance of  non-professional trained emotional support animals in the cabin of aircraft would cease. This is essential for the health and safety of the passengers at large as well as the hard working crew. I hope to see this change made very soon. Thank you. \n",
              "2  DOT-OST-2018-0068-14918  ...                                                                                                                                                                                                                                                                                                                                                                                                                                                                                                                                                                                                                                                                                                                                                                                                                                                                                                                                                                                                                                                                                                                                                                                                                                                                                                                                                                                                                                                                                                                                                               Service animals should be restricted to those animals previously designated to aid physically incapacitated individuals and emotional  support animals do not fulfil that category. Additionally dogs appear to be the only animal that I have observed capable of performing this task. All of the other pre-requisites appear to be reasonable  requirements.\n",
              "3  DOT-OST-2018-0068-14919  ...                                                                                                                                                                                                                                                                                                                                                                                                               RE:  DOCKET NUMBER DOT-OST-2018-0068I am a psychotherapist who has worked with many people with PTSD and Severe panic attacks.  I have spoken with men whose PTSD, from serving in the military, has been so severe that they cannot go anywhere without their emotional support animals.  I have also treated people who have such bad  panic attacks that they become paralyzed or sometimes even faint.I implore you to not take away the privilege of these people having their ESAs on planes, to provide necessary comfort.  Just because you cannot see a disorder, doesn't mean  it doesn't exist.  I liken it to a domestic violence survivor who was emotionally abused.  His or her pain can be just as great as one who was physically abused.You will be doing a  tremendous disservice to people who legitimately need their ESAs, if you don't let these people travelwith them.  How can passengers prove that the service their ESAs serve is to help them feel safe? This is not an observerable task.Clearly people have abused this policy and that couldn't be more wrong.  However, there must be a better solution than what the DOT is proposing.  Some airlines are having passengers sign waivers that their pets are well-trained.  Can't that be enough?  Also, can't the proposal just consider allowing people with just dogs and cats as ESAs?Please consider what I have said.  If this rule is instituted, many people's lives will be severely negatively affected.Thank you.\n",
              "4  DOT-OST-2018-0068-14920  ...  I really appreciate the time that has been spent to really create a workable definition for what should reasonably considered a service animal. I would like to take the time to comment as a frequent passenger of airlines, as my experience is limited to that specifically on the call for comment on restriction by breed. Cabin spaces can be incredibly confined and the presence of a dog that exhibits characteristics of Bully breeds might initially suggest that these dogs should be prohibited. However I would like to offer two counterpoints (1) Bully breeds vary in size and (2) Significant accommodation and allowance are made for large bags As in all breeds there is significant variance of size. While what some would consider pit bulls can be as large as boxers there are others that due to their mixed background are much smaller than a golden retriever or German shepherd which might be considered the poster dogs for service animals. Simply restricting on the basis of appearance of Bully breeding, is close but not sufficient as a workable definition and places legitimate service animals and their handlers at risk. Second, from a narrative standpoint, as a student I have consistently observed the large backpacks taken by students onto planes at the beginning or end of breaks. These bags stuffed with books, computers, and supplies are often too large to fit underneath the slightly smaller spaces allotted for the aisle and window seats. In my own experience, I have only known legitimate service dogs to sit in the front row where they have space to lay or in a separate reserved seat.  Given the tolerance we understandably extend to college students at the holidays, I think it would not be unreasonable to extend similar patience towards dogs that significantly improve and aid their handler's successful maneuvering through society. \n",
              "\n",
              "[5 rows x 3 columns]"
            ]
          },
          "metadata": {
            "tags": []
          },
          "execution_count": 4
        }
      ]
    },
    {
      "cell_type": "code",
      "metadata": {
        "colab": {
          "base_uri": "https://localhost:8080/"
        },
        "id": "grvu6XE_js7g",
        "outputId": "5c80c1fc-708e-4dab-b5aa-8acec896aa14"
      },
      "source": [
        "nlp('content').vector"
      ],
      "execution_count": null,
      "outputs": [
        {
          "output_type": "execute_result",
          "data": {
            "text/plain": [
              "array([ 3.0730627 , -3.7200665 , -0.4590421 , -1.0843756 ,  2.4470425 ,\n",
              "       -1.591561  ,  3.2699924 ,  1.5162889 , -0.04398102,  3.958185  ,\n",
              "        2.9161372 ,  0.539173  ,  0.75469184, -1.7958819 ,  1.5592194 ,\n",
              "       -1.0948595 , -0.99571   ,  4.0635915 , -1.4589607 , -2.3697019 ,\n",
              "        0.3577331 , -0.6435768 , -0.18410009, -1.1467546 ,  1.5584462 ,\n",
              "       -0.4602242 ,  0.6592964 , -3.543303  ,  5.2842617 , -2.801984  ,\n",
              "        3.744954  ,  1.2050023 ,  2.4472823 ,  2.6685765 ,  0.59277785,\n",
              "       -1.9198747 ,  3.5219512 , -0.6113558 , -3.8993707 , -0.32248276,\n",
              "        1.2560205 ,  0.5675677 , -0.20611557, -2.6427183 , -0.82164514,\n",
              "       -1.3654324 ,  0.38266438, -0.9036007 , -0.56781787,  2.030577  ,\n",
              "        0.1319139 , -2.294403  , -1.4198531 , -2.4450622 , -0.93936646,\n",
              "       -1.8068441 ,  0.9967975 ,  0.6955677 ,  2.3024943 , -0.6897421 ,\n",
              "        0.75024426, -2.2826734 , -2.1129825 , -0.5644752 ,  0.13928133,\n",
              "       -1.1858511 ,  1.9447664 , -3.0363111 ,  0.868889  , -0.4794131 ,\n",
              "       -2.5024116 , -0.44952825,  2.3385177 ,  3.3647609 , -3.1591985 ,\n",
              "       -0.7356152 ,  1.7136407 , -0.4720832 , -1.369698  ,  4.4418273 ,\n",
              "        0.77998126, -2.3249173 , -0.5698101 , -1.7381237 , -0.22892761,\n",
              "        2.8793228 , -2.5252373 ,  0.65839624, -1.5405345 , -0.6190335 ,\n",
              "        1.480793  , -0.77193975, -0.4311408 ,  3.1050205 ,  0.900432  ,\n",
              "       -1.1597352 ], dtype=float32)"
            ]
          },
          "metadata": {
            "tags": []
          },
          "execution_count": 5
        }
      ]
    },
    {
      "cell_type": "code",
      "metadata": {
        "colab": {
          "base_uri": "https://localhost:8080/"
        },
        "id": "ZxT95Vdm0wNP",
        "outputId": "6b4c9d8a-c5e2-4fac-8149-9e31113be40c"
      },
      "source": [
        "!pip install vaderSentiment\n",
        "from vaderSentiment.vaderSentiment import SentimentIntensityAnalyzer "
      ],
      "execution_count": null,
      "outputs": [
        {
          "output_type": "stream",
          "text": [
            "Collecting vaderSentiment\n",
            "\u001b[?25l  Downloading https://files.pythonhosted.org/packages/76/fc/310e16254683c1ed35eeb97386986d6c00bc29df17ce280aed64d55537e9/vaderSentiment-3.3.2-py2.py3-none-any.whl (125kB)\n",
            "\r\u001b[K     |██▋                             | 10kB 16.5MB/s eta 0:00:01\r\u001b[K     |█████▏                          | 20kB 16.3MB/s eta 0:00:01\r\u001b[K     |███████▉                        | 30kB 9.9MB/s eta 0:00:01\r\u001b[K     |██████████▍                     | 40kB 8.4MB/s eta 0:00:01\r\u001b[K     |█████████████                   | 51kB 4.4MB/s eta 0:00:01\r\u001b[K     |███████████████▋                | 61kB 4.4MB/s eta 0:00:01\r\u001b[K     |██████████████████▏             | 71kB 4.8MB/s eta 0:00:01\r\u001b[K     |████████████████████▉           | 81kB 5.0MB/s eta 0:00:01\r\u001b[K     |███████████████████████▍        | 92kB 5.3MB/s eta 0:00:01\r\u001b[K     |██████████████████████████      | 102kB 4.3MB/s eta 0:00:01\r\u001b[K     |████████████████████████████▋   | 112kB 4.3MB/s eta 0:00:01\r\u001b[K     |███████████████████████████████▏| 122kB 4.3MB/s eta 0:00:01\r\u001b[K     |████████████████████████████████| 133kB 4.3MB/s \n",
            "\u001b[?25hRequirement already satisfied: requests in /usr/local/lib/python3.6/dist-packages (from vaderSentiment) (2.23.0)\n",
            "Requirement already satisfied: certifi>=2017.4.17 in /usr/local/lib/python3.6/dist-packages (from requests->vaderSentiment) (2020.11.8)\n",
            "Requirement already satisfied: urllib3!=1.25.0,!=1.25.1,<1.26,>=1.21.1 in /usr/local/lib/python3.6/dist-packages (from requests->vaderSentiment) (1.24.3)\n",
            "Requirement already satisfied: idna<3,>=2.5 in /usr/local/lib/python3.6/dist-packages (from requests->vaderSentiment) (2.10)\n",
            "Requirement already satisfied: chardet<4,>=3.0.2 in /usr/local/lib/python3.6/dist-packages (from requests->vaderSentiment) (3.0.4)\n",
            "Installing collected packages: vaderSentiment\n",
            "Successfully installed vaderSentiment-3.3.2\n"
          ],
          "name": "stdout"
        }
      ]
    },
    {
      "cell_type": "code",
      "metadata": {
        "colab": {
          "base_uri": "https://localhost:8080/",
          "height": 1000
        },
        "id": "sfVqWpz22jlA",
        "outputId": "ed1bd319-a447-41d0-84ed-483ec5f336d4"
      },
      "source": [
        "# Step-2 | Language and Sentiment Analysis\n",
        "analyzer = SentimentIntensityAnalyzer()\n",
        "df['rating'] = df['content'].apply(analyzer.polarity_scores)\n",
        "pd.concat([df.drop(['rating'], axis=1), df['rating'].apply(pd.Series)], axis=1)"
      ],
      "execution_count": null,
      "outputs": [
        {
          "output_type": "execute_result",
          "data": {
            "text/html": [
              "<div>\n",
              "<style scoped>\n",
              "    .dataframe tbody tr th:only-of-type {\n",
              "        vertical-align: middle;\n",
              "    }\n",
              "\n",
              "    .dataframe tbody tr th {\n",
              "        vertical-align: top;\n",
              "    }\n",
              "\n",
              "    .dataframe thead th {\n",
              "        text-align: right;\n",
              "    }\n",
              "</style>\n",
              "<table border=\"1\" class=\"dataframe\">\n",
              "  <thead>\n",
              "    <tr style=\"text-align: right;\">\n",
              "      <th></th>\n",
              "      <th>id</th>\n",
              "      <th>date</th>\n",
              "      <th>content</th>\n",
              "      <th>neg</th>\n",
              "      <th>neu</th>\n",
              "      <th>pos</th>\n",
              "      <th>compound</th>\n",
              "    </tr>\n",
              "  </thead>\n",
              "  <tbody>\n",
              "    <tr>\n",
              "      <th>0</th>\n",
              "      <td>DOT-OST-2018-0068-14971</td>\n",
              "      <td>2020-02-24T05:00:00Z</td>\n",
              "      <td>My wife was depressed on a daily basis. She cried all the time. Once we got our little puppy, my wife feels she has a purpose and has not cried since. She needs to have him with her when travelling or she is very stressed and depressed. He has made such a difference. Please don't take away the ability for our dog to travel with her.</td>\n",
              "      <td>0.156</td>\n",
              "      <td>0.757</td>\n",
              "      <td>0.087</td>\n",
              "      <td>-0.7486</td>\n",
              "    </tr>\n",
              "    <tr>\n",
              "      <th>1</th>\n",
              "      <td>DOT-OST-2018-0068-14917</td>\n",
              "      <td>2020-02-24T05:00:00Z</td>\n",
              "      <td>Docket number (DOT-OST-2018-0068) and the Regulatory ID number (RIN No. 2105-AE63)I am very much in favor of amended regulations that provide strict definitions for what type of animals might be permitted to accompany flyers in the cabin of commercial aircraft. As I have read the pending rules, only a properly trained service dog would fulfill the criteria to accompany a passenger with special needs in the cabin. The wide and random acceptance of  non-professional trained emotional support animals in the cabin of aircraft would cease. This is essential for the health and safety of the passengers at large as well as the hard working crew. I hope to see this change made very soon. Thank you.</td>\n",
              "      <td>0.010</td>\n",
              "      <td>0.772</td>\n",
              "      <td>0.218</td>\n",
              "      <td>0.9740</td>\n",
              "    </tr>\n",
              "    <tr>\n",
              "      <th>2</th>\n",
              "      <td>DOT-OST-2018-0068-14918</td>\n",
              "      <td>2020-02-24T05:00:00Z</td>\n",
              "      <td>Service animals should be restricted to those animals previously designated to aid physically incapacitated individuals and emotional  support animals do not fulfil that category. Additionally dogs appear to be the only animal that I have observed capable of performing this task. All of the other pre-requisites appear to be reasonable  requirements.</td>\n",
              "      <td>0.094</td>\n",
              "      <td>0.788</td>\n",
              "      <td>0.118</td>\n",
              "      <td>0.1027</td>\n",
              "    </tr>\n",
              "    <tr>\n",
              "      <th>3</th>\n",
              "      <td>DOT-OST-2018-0068-14919</td>\n",
              "      <td>2020-02-24T05:00:00Z</td>\n",
              "      <td>RE:  DOCKET NUMBER DOT-OST-2018-0068I am a psychotherapist who has worked with many people with PTSD and Severe panic attacks.  I have spoken with men whose PTSD, from serving in the military, has been so severe that they cannot go anywhere without their emotional support animals.  I have also treated people who have such bad  panic attacks that they become paralyzed or sometimes even faint.I implore you to not take away the privilege of these people having their ESAs on planes, to provide necessary comfort.  Just because you cannot see a disorder, doesn't mean  it doesn't exist.  I liken it to a domestic violence survivor who was emotionally abused.  His or her pain can be just as great as one who was physically abused.You will be doing a  tremendous disservice to people who legitimately need their ESAs, if you don't let these people travelwith them.  How can passengers prove that the service their ESAs serve is to help them feel safe? This is not an observerable task.Clearly people have abused this policy and that couldn't be more wrong.  However, there must be a better solution than what the DOT is proposing.  Some airlines are having passengers sign waivers that their pets are well-trained.  Can't that be enough?  Also, can't the proposal just consider allowing people with just dogs and cats as ESAs?Please consider what I have said.  If this rule is instituted, many people's lives will be severely negatively affected.Thank you.</td>\n",
              "      <td>0.150</td>\n",
              "      <td>0.748</td>\n",
              "      <td>0.102</td>\n",
              "      <td>-0.9397</td>\n",
              "    </tr>\n",
              "    <tr>\n",
              "      <th>4</th>\n",
              "      <td>DOT-OST-2018-0068-14920</td>\n",
              "      <td>2020-02-24T05:00:00Z</td>\n",
              "      <td>I really appreciate the time that has been spent to really create a workable definition for what should reasonably considered a service animal. I would like to take the time to comment as a frequent passenger of airlines, as my experience is limited to that specifically on the call for comment on restriction by breed. Cabin spaces can be incredibly confined and the presence of a dog that exhibits characteristics of Bully breeds might initially suggest that these dogs should be prohibited. However I would like to offer two counterpoints (1) Bully breeds vary in size and (2) Significant accommodation and allowance are made for large bags As in all breeds there is significant variance of size. While what some would consider pit bulls can be as large as boxers there are others that due to their mixed background are much smaller than a golden retriever or German shepherd which might be considered the poster dogs for service animals. Simply restricting on the basis of appearance of Bully breeding, is close but not sufficient as a workable definition and places legitimate service animals and their handlers at risk. Second, from a narrative standpoint, as a student I have consistently observed the large backpacks taken by students onto planes at the beginning or end of breaks. These bags stuffed with books, computers, and supplies are often too large to fit underneath the slightly smaller spaces allotted for the aisle and window seats. In my own experience, I have only known legitimate service dogs to sit in the front row where they have space to lay or in a separate reserved seat.  Given the tolerance we understandably extend to college students at the holidays, I think it would not be unreasonable to extend similar patience towards dogs that significantly improve and aid their handler's successful maneuvering through society.</td>\n",
              "      <td>0.038</td>\n",
              "      <td>0.863</td>\n",
              "      <td>0.098</td>\n",
              "      <td>0.9635</td>\n",
              "    </tr>\n",
              "    <tr>\n",
              "      <th>...</th>\n",
              "      <td>...</td>\n",
              "      <td>...</td>\n",
              "      <td>...</td>\n",
              "      <td>...</td>\n",
              "      <td>...</td>\n",
              "      <td>...</td>\n",
              "      <td>...</td>\n",
              "    </tr>\n",
              "    <tr>\n",
              "      <th>493</th>\n",
              "      <td>DOT-OST-2018-0068-15072</td>\n",
              "      <td>2020-02-24T05:00:00Z</td>\n",
              "      <td>Yes, I totally approve of the rules for service animals.  Passengers claiming pets as emotional support animals threaten the safety and health of other passengers.  I was on a flight recently in which a unleashed dog was allowed to wander around the plane.  In addition to allergy problems for passengers, dogs can spread germs and bacteria.  Please ban all untrained emotional support animals.</td>\n",
              "      <td>0.114</td>\n",
              "      <td>0.677</td>\n",
              "      <td>0.209</td>\n",
              "      <td>0.6705</td>\n",
              "    </tr>\n",
              "    <tr>\n",
              "      <th>494</th>\n",
              "      <td>DOT-OST-2018-0068-15074</td>\n",
              "      <td>2020-02-24T05:00:00Z</td>\n",
              "      <td>As a dog owner and frequent traveler, I don't have a service animal. But I feel as long as the animal behaves and is not too big, who cares.Some people have issues and they should be helped.</td>\n",
              "      <td>0.000</td>\n",
              "      <td>1.000</td>\n",
              "      <td>0.000</td>\n",
              "      <td>0.0000</td>\n",
              "    </tr>\n",
              "    <tr>\n",
              "      <th>495</th>\n",
              "      <td>DOT-OST-2018-0068-15075</td>\n",
              "      <td>2020-02-24T05:00:00Z</td>\n",
              "      <td>Only true service dogs should be allowed in the airline cabin.  Only dogs.  And even dogs should be severely restricted.  Emotional support animals should not be included.  The DOT should require a License of some type that those with service dogs must obtain.  It should require a statement from a medical professional re the need for the service dog and also a certificate showing training.I realize some people really need their service dog and of course am willing to make accomodations.  But other people have needs as well.  My wife is deathly afraid of dogs (even really small ones which I find amusing).  I am not afraid of dogs but I am severely allergic to dogs.  Planes are full of enough pathogens for all of us to worry about without having to worry about dog dander as well.  Thank you for your consideration.</td>\n",
              "      <td>0.088</td>\n",
              "      <td>0.790</td>\n",
              "      <td>0.122</td>\n",
              "      <td>0.5660</td>\n",
              "    </tr>\n",
              "    <tr>\n",
              "      <th>496</th>\n",
              "      <td>DOT-OST-2018-0068-15078</td>\n",
              "      <td>2020-02-24T05:00:00Z</td>\n",
              "      <td>I am 100% behind new the new proposed regulations limiting emotional support animals. This has been abused for way too long. Anyone can get a note from their vet and/or doctor saying that their poor pet is needed for emotional stability. Enough. Flying is for humans, not pets - at least not pets that share cabin seats. I would like it to be limited to only official &amp; documented service dogs (not all animals). Enough with this attitude that my pet can go with me anywhere.</td>\n",
              "      <td>0.105</td>\n",
              "      <td>0.808</td>\n",
              "      <td>0.087</td>\n",
              "      <td>-0.4191</td>\n",
              "    </tr>\n",
              "    <tr>\n",
              "      <th>497</th>\n",
              "      <td>DOT-OST-2018-0068-15080</td>\n",
              "      <td>2020-02-24T05:00:00Z</td>\n",
              "      <td>Only fully trained and qualified service dogs should be allowed to fly in the passenger cabin with their disabled owner. Comfort dogs should not be allowed as they aren't necessarily trained for their duties.  People have taken advantage of being able to fly with comfort dogs. It should not be permitted.</td>\n",
              "      <td>0.000</td>\n",
              "      <td>0.873</td>\n",
              "      <td>0.127</td>\n",
              "      <td>0.7184</td>\n",
              "    </tr>\n",
              "  </tbody>\n",
              "</table>\n",
              "<p>498 rows × 7 columns</p>\n",
              "</div>"
            ],
            "text/plain": [
              "                          id                  date  ...    pos  compound\n",
              "0    DOT-OST-2018-0068-14971  2020-02-24T05:00:00Z  ...  0.087   -0.7486\n",
              "1    DOT-OST-2018-0068-14917  2020-02-24T05:00:00Z  ...  0.218    0.9740\n",
              "2    DOT-OST-2018-0068-14918  2020-02-24T05:00:00Z  ...  0.118    0.1027\n",
              "3    DOT-OST-2018-0068-14919  2020-02-24T05:00:00Z  ...  0.102   -0.9397\n",
              "4    DOT-OST-2018-0068-14920  2020-02-24T05:00:00Z  ...  0.098    0.9635\n",
              "..                       ...                   ...  ...    ...       ...\n",
              "493  DOT-OST-2018-0068-15072  2020-02-24T05:00:00Z  ...  0.209    0.6705\n",
              "494  DOT-OST-2018-0068-15074  2020-02-24T05:00:00Z  ...  0.000    0.0000\n",
              "495  DOT-OST-2018-0068-15075  2020-02-24T05:00:00Z  ...  0.122    0.5660\n",
              "496  DOT-OST-2018-0068-15078  2020-02-24T05:00:00Z  ...  0.087   -0.4191\n",
              "497  DOT-OST-2018-0068-15080  2020-02-24T05:00:00Z  ...  0.127    0.7184\n",
              "\n",
              "[498 rows x 7 columns]"
            ]
          },
          "metadata": {
            "tags": []
          },
          "execution_count": 7
        }
      ]
    },
    {
      "cell_type": "markdown",
      "metadata": {
        "id": "s3kY0MOHHgB9"
      },
      "source": [
        "## Step-1 How many comments have a positive (grater than zero) sentiment?\n",
        "\n",
        "# **Answer:** 291"
      ]
    },
    {
      "cell_type": "code",
      "metadata": {
        "colab": {
          "base_uri": "https://localhost:8080/",
          "height": 1000
        },
        "id": "Ov1PubMK4mOp",
        "outputId": "16dd2525-2e99-4f3a-94f9-1c3ba4494ba3"
      },
      "source": [
        "# Step-1\n",
        "analyzer = SentimentIntensityAnalyzer()\n",
        "df['compound'] = [analyzer.polarity_scores(x)['compound'] for x in df['content']]\n",
        "df['neg'] = [analyzer.polarity_scores(x)['neg'] for x in df['content']]\n",
        "df['neu'] = [analyzer.polarity_scores(x)['neu'] for x in df['content']]\n",
        "df['pos'] = [analyzer.polarity_scores(x)['pos'] for x in df['content']]\n",
        "df"
      ],
      "execution_count": null,
      "outputs": [
        {
          "output_type": "execute_result",
          "data": {
            "text/html": [
              "<div>\n",
              "<style scoped>\n",
              "    .dataframe tbody tr th:only-of-type {\n",
              "        vertical-align: middle;\n",
              "    }\n",
              "\n",
              "    .dataframe tbody tr th {\n",
              "        vertical-align: top;\n",
              "    }\n",
              "\n",
              "    .dataframe thead th {\n",
              "        text-align: right;\n",
              "    }\n",
              "</style>\n",
              "<table border=\"1\" class=\"dataframe\">\n",
              "  <thead>\n",
              "    <tr style=\"text-align: right;\">\n",
              "      <th></th>\n",
              "      <th>id</th>\n",
              "      <th>date</th>\n",
              "      <th>content</th>\n",
              "      <th>rating</th>\n",
              "      <th>compound</th>\n",
              "      <th>neg</th>\n",
              "      <th>neu</th>\n",
              "      <th>pos</th>\n",
              "    </tr>\n",
              "  </thead>\n",
              "  <tbody>\n",
              "    <tr>\n",
              "      <th>0</th>\n",
              "      <td>DOT-OST-2018-0068-14971</td>\n",
              "      <td>2020-02-24T05:00:00Z</td>\n",
              "      <td>My wife was depressed on a daily basis. She cried all the time. Once we got our little puppy, my wife feels she has a purpose and has not cried since. She needs to have him with her when travelling or she is very stressed and depressed. He has made such a difference. Please don't take away the ability for our dog to travel with her.</td>\n",
              "      <td>{'neg': 0.156, 'neu': 0.757, 'pos': 0.087, 'compound': -0.7486}</td>\n",
              "      <td>-0.7486</td>\n",
              "      <td>0.156</td>\n",
              "      <td>0.757</td>\n",
              "      <td>0.087</td>\n",
              "    </tr>\n",
              "    <tr>\n",
              "      <th>1</th>\n",
              "      <td>DOT-OST-2018-0068-14917</td>\n",
              "      <td>2020-02-24T05:00:00Z</td>\n",
              "      <td>Docket number (DOT-OST-2018-0068) and the Regulatory ID number (RIN No. 2105-AE63)I am very much in favor of amended regulations that provide strict definitions for what type of animals might be permitted to accompany flyers in the cabin of commercial aircraft. As I have read the pending rules, only a properly trained service dog would fulfill the criteria to accompany a passenger with special needs in the cabin. The wide and random acceptance of  non-professional trained emotional support animals in the cabin of aircraft would cease. This is essential for the health and safety of the passengers at large as well as the hard working crew. I hope to see this change made very soon. Thank you.</td>\n",
              "      <td>{'neg': 0.01, 'neu': 0.772, 'pos': 0.218, 'compound': 0.974}</td>\n",
              "      <td>0.9740</td>\n",
              "      <td>0.010</td>\n",
              "      <td>0.772</td>\n",
              "      <td>0.218</td>\n",
              "    </tr>\n",
              "    <tr>\n",
              "      <th>2</th>\n",
              "      <td>DOT-OST-2018-0068-14918</td>\n",
              "      <td>2020-02-24T05:00:00Z</td>\n",
              "      <td>Service animals should be restricted to those animals previously designated to aid physically incapacitated individuals and emotional  support animals do not fulfil that category. Additionally dogs appear to be the only animal that I have observed capable of performing this task. All of the other pre-requisites appear to be reasonable  requirements.</td>\n",
              "      <td>{'neg': 0.094, 'neu': 0.788, 'pos': 0.118, 'compound': 0.1027}</td>\n",
              "      <td>0.1027</td>\n",
              "      <td>0.094</td>\n",
              "      <td>0.788</td>\n",
              "      <td>0.118</td>\n",
              "    </tr>\n",
              "    <tr>\n",
              "      <th>3</th>\n",
              "      <td>DOT-OST-2018-0068-14919</td>\n",
              "      <td>2020-02-24T05:00:00Z</td>\n",
              "      <td>RE:  DOCKET NUMBER DOT-OST-2018-0068I am a psychotherapist who has worked with many people with PTSD and Severe panic attacks.  I have spoken with men whose PTSD, from serving in the military, has been so severe that they cannot go anywhere without their emotional support animals.  I have also treated people who have such bad  panic attacks that they become paralyzed or sometimes even faint.I implore you to not take away the privilege of these people having their ESAs on planes, to provide necessary comfort.  Just because you cannot see a disorder, doesn't mean  it doesn't exist.  I liken it to a domestic violence survivor who was emotionally abused.  His or her pain can be just as great as one who was physically abused.You will be doing a  tremendous disservice to people who legitimately need their ESAs, if you don't let these people travelwith them.  How can passengers prove that the service their ESAs serve is to help them feel safe? This is not an observerable task.Clearly people have abused this policy and that couldn't be more wrong.  However, there must be a better solution than what the DOT is proposing.  Some airlines are having passengers sign waivers that their pets are well-trained.  Can't that be enough?  Also, can't the proposal just consider allowing people with just dogs and cats as ESAs?Please consider what I have said.  If this rule is instituted, many people's lives will be severely negatively affected.Thank you.</td>\n",
              "      <td>{'neg': 0.15, 'neu': 0.748, 'pos': 0.102, 'compound': -0.9397}</td>\n",
              "      <td>-0.9397</td>\n",
              "      <td>0.150</td>\n",
              "      <td>0.748</td>\n",
              "      <td>0.102</td>\n",
              "    </tr>\n",
              "    <tr>\n",
              "      <th>4</th>\n",
              "      <td>DOT-OST-2018-0068-14920</td>\n",
              "      <td>2020-02-24T05:00:00Z</td>\n",
              "      <td>I really appreciate the time that has been spent to really create a workable definition for what should reasonably considered a service animal. I would like to take the time to comment as a frequent passenger of airlines, as my experience is limited to that specifically on the call for comment on restriction by breed. Cabin spaces can be incredibly confined and the presence of a dog that exhibits characteristics of Bully breeds might initially suggest that these dogs should be prohibited. However I would like to offer two counterpoints (1) Bully breeds vary in size and (2) Significant accommodation and allowance are made for large bags As in all breeds there is significant variance of size. While what some would consider pit bulls can be as large as boxers there are others that due to their mixed background are much smaller than a golden retriever or German shepherd which might be considered the poster dogs for service animals. Simply restricting on the basis of appearance of Bully breeding, is close but not sufficient as a workable definition and places legitimate service animals and their handlers at risk. Second, from a narrative standpoint, as a student I have consistently observed the large backpacks taken by students onto planes at the beginning or end of breaks. These bags stuffed with books, computers, and supplies are often too large to fit underneath the slightly smaller spaces allotted for the aisle and window seats. In my own experience, I have only known legitimate service dogs to sit in the front row where they have space to lay or in a separate reserved seat.  Given the tolerance we understandably extend to college students at the holidays, I think it would not be unreasonable to extend similar patience towards dogs that significantly improve and aid their handler's successful maneuvering through society.</td>\n",
              "      <td>{'neg': 0.038, 'neu': 0.863, 'pos': 0.098, 'compound': 0.9635}</td>\n",
              "      <td>0.9635</td>\n",
              "      <td>0.038</td>\n",
              "      <td>0.863</td>\n",
              "      <td>0.098</td>\n",
              "    </tr>\n",
              "    <tr>\n",
              "      <th>...</th>\n",
              "      <td>...</td>\n",
              "      <td>...</td>\n",
              "      <td>...</td>\n",
              "      <td>...</td>\n",
              "      <td>...</td>\n",
              "      <td>...</td>\n",
              "      <td>...</td>\n",
              "      <td>...</td>\n",
              "    </tr>\n",
              "    <tr>\n",
              "      <th>493</th>\n",
              "      <td>DOT-OST-2018-0068-15072</td>\n",
              "      <td>2020-02-24T05:00:00Z</td>\n",
              "      <td>Yes, I totally approve of the rules for service animals.  Passengers claiming pets as emotional support animals threaten the safety and health of other passengers.  I was on a flight recently in which a unleashed dog was allowed to wander around the plane.  In addition to allergy problems for passengers, dogs can spread germs and bacteria.  Please ban all untrained emotional support animals.</td>\n",
              "      <td>{'neg': 0.114, 'neu': 0.677, 'pos': 0.209, 'compound': 0.6705}</td>\n",
              "      <td>0.6705</td>\n",
              "      <td>0.114</td>\n",
              "      <td>0.677</td>\n",
              "      <td>0.209</td>\n",
              "    </tr>\n",
              "    <tr>\n",
              "      <th>494</th>\n",
              "      <td>DOT-OST-2018-0068-15074</td>\n",
              "      <td>2020-02-24T05:00:00Z</td>\n",
              "      <td>As a dog owner and frequent traveler, I don't have a service animal. But I feel as long as the animal behaves and is not too big, who cares.Some people have issues and they should be helped.</td>\n",
              "      <td>{'neg': 0.0, 'neu': 1.0, 'pos': 0.0, 'compound': 0.0}</td>\n",
              "      <td>0.0000</td>\n",
              "      <td>0.000</td>\n",
              "      <td>1.000</td>\n",
              "      <td>0.000</td>\n",
              "    </tr>\n",
              "    <tr>\n",
              "      <th>495</th>\n",
              "      <td>DOT-OST-2018-0068-15075</td>\n",
              "      <td>2020-02-24T05:00:00Z</td>\n",
              "      <td>Only true service dogs should be allowed in the airline cabin.  Only dogs.  And even dogs should be severely restricted.  Emotional support animals should not be included.  The DOT should require a License of some type that those with service dogs must obtain.  It should require a statement from a medical professional re the need for the service dog and also a certificate showing training.I realize some people really need their service dog and of course am willing to make accomodations.  But other people have needs as well.  My wife is deathly afraid of dogs (even really small ones which I find amusing).  I am not afraid of dogs but I am severely allergic to dogs.  Planes are full of enough pathogens for all of us to worry about without having to worry about dog dander as well.  Thank you for your consideration.</td>\n",
              "      <td>{'neg': 0.088, 'neu': 0.79, 'pos': 0.122, 'compound': 0.566}</td>\n",
              "      <td>0.5660</td>\n",
              "      <td>0.088</td>\n",
              "      <td>0.790</td>\n",
              "      <td>0.122</td>\n",
              "    </tr>\n",
              "    <tr>\n",
              "      <th>496</th>\n",
              "      <td>DOT-OST-2018-0068-15078</td>\n",
              "      <td>2020-02-24T05:00:00Z</td>\n",
              "      <td>I am 100% behind new the new proposed regulations limiting emotional support animals. This has been abused for way too long. Anyone can get a note from their vet and/or doctor saying that their poor pet is needed for emotional stability. Enough. Flying is for humans, not pets - at least not pets that share cabin seats. I would like it to be limited to only official &amp; documented service dogs (not all animals). Enough with this attitude that my pet can go with me anywhere.</td>\n",
              "      <td>{'neg': 0.105, 'neu': 0.808, 'pos': 0.087, 'compound': -0.4191}</td>\n",
              "      <td>-0.4191</td>\n",
              "      <td>0.105</td>\n",
              "      <td>0.808</td>\n",
              "      <td>0.087</td>\n",
              "    </tr>\n",
              "    <tr>\n",
              "      <th>497</th>\n",
              "      <td>DOT-OST-2018-0068-15080</td>\n",
              "      <td>2020-02-24T05:00:00Z</td>\n",
              "      <td>Only fully trained and qualified service dogs should be allowed to fly in the passenger cabin with their disabled owner. Comfort dogs should not be allowed as they aren't necessarily trained for their duties.  People have taken advantage of being able to fly with comfort dogs. It should not be permitted.</td>\n",
              "      <td>{'neg': 0.0, 'neu': 0.873, 'pos': 0.127, 'compound': 0.7184}</td>\n",
              "      <td>0.7184</td>\n",
              "      <td>0.000</td>\n",
              "      <td>0.873</td>\n",
              "      <td>0.127</td>\n",
              "    </tr>\n",
              "  </tbody>\n",
              "</table>\n",
              "<p>498 rows × 8 columns</p>\n",
              "</div>"
            ],
            "text/plain": [
              "                          id                  date  ...    neu    pos\n",
              "0    DOT-OST-2018-0068-14971  2020-02-24T05:00:00Z  ...  0.757  0.087\n",
              "1    DOT-OST-2018-0068-14917  2020-02-24T05:00:00Z  ...  0.772  0.218\n",
              "2    DOT-OST-2018-0068-14918  2020-02-24T05:00:00Z  ...  0.788  0.118\n",
              "3    DOT-OST-2018-0068-14919  2020-02-24T05:00:00Z  ...  0.748  0.102\n",
              "4    DOT-OST-2018-0068-14920  2020-02-24T05:00:00Z  ...  0.863  0.098\n",
              "..                       ...                   ...  ...    ...    ...\n",
              "493  DOT-OST-2018-0068-15072  2020-02-24T05:00:00Z  ...  0.677  0.209\n",
              "494  DOT-OST-2018-0068-15074  2020-02-24T05:00:00Z  ...  1.000  0.000\n",
              "495  DOT-OST-2018-0068-15075  2020-02-24T05:00:00Z  ...  0.790  0.122\n",
              "496  DOT-OST-2018-0068-15078  2020-02-24T05:00:00Z  ...  0.808  0.087\n",
              "497  DOT-OST-2018-0068-15080  2020-02-24T05:00:00Z  ...  0.873  0.127\n",
              "\n",
              "[498 rows x 8 columns]"
            ]
          },
          "metadata": {
            "tags": []
          },
          "execution_count": 8
        }
      ]
    },
    {
      "cell_type": "code",
      "metadata": {
        "colab": {
          "base_uri": "https://localhost:8080/",
          "height": 287
        },
        "id": "I8FDMHxjrViy",
        "outputId": "3ecf6314-ed20-4c7e-cb9e-ccc9d1f1e36f"
      },
      "source": [
        "# Step-2 | Analyzing Sentiment\n",
        "df.describe()"
      ],
      "execution_count": null,
      "outputs": [
        {
          "output_type": "execute_result",
          "data": {
            "text/html": [
              "<div>\n",
              "<style scoped>\n",
              "    .dataframe tbody tr th:only-of-type {\n",
              "        vertical-align: middle;\n",
              "    }\n",
              "\n",
              "    .dataframe tbody tr th {\n",
              "        vertical-align: top;\n",
              "    }\n",
              "\n",
              "    .dataframe thead th {\n",
              "        text-align: right;\n",
              "    }\n",
              "</style>\n",
              "<table border=\"1\" class=\"dataframe\">\n",
              "  <thead>\n",
              "    <tr style=\"text-align: right;\">\n",
              "      <th></th>\n",
              "      <th>compound</th>\n",
              "      <th>neg</th>\n",
              "      <th>neu</th>\n",
              "      <th>pos</th>\n",
              "    </tr>\n",
              "  </thead>\n",
              "  <tbody>\n",
              "    <tr>\n",
              "      <th>count</th>\n",
              "      <td>498.000000</td>\n",
              "      <td>498.000000</td>\n",
              "      <td>498.000000</td>\n",
              "      <td>498.000000</td>\n",
              "    </tr>\n",
              "    <tr>\n",
              "      <th>mean</th>\n",
              "      <td>0.157265</td>\n",
              "      <td>0.086807</td>\n",
              "      <td>0.793233</td>\n",
              "      <td>0.119920</td>\n",
              "    </tr>\n",
              "    <tr>\n",
              "      <th>std</th>\n",
              "      <td>0.683050</td>\n",
              "      <td>0.062281</td>\n",
              "      <td>0.092626</td>\n",
              "      <td>0.078965</td>\n",
              "    </tr>\n",
              "    <tr>\n",
              "      <th>min</th>\n",
              "      <td>-0.994500</td>\n",
              "      <td>0.000000</td>\n",
              "      <td>0.428000</td>\n",
              "      <td>0.000000</td>\n",
              "    </tr>\n",
              "    <tr>\n",
              "      <th>25%</th>\n",
              "      <td>-0.493900</td>\n",
              "      <td>0.045250</td>\n",
              "      <td>0.738250</td>\n",
              "      <td>0.070250</td>\n",
              "    </tr>\n",
              "    <tr>\n",
              "      <th>50%</th>\n",
              "      <td>0.318950</td>\n",
              "      <td>0.082000</td>\n",
              "      <td>0.798000</td>\n",
              "      <td>0.109000</td>\n",
              "    </tr>\n",
              "    <tr>\n",
              "      <th>75%</th>\n",
              "      <td>0.817600</td>\n",
              "      <td>0.119750</td>\n",
              "      <td>0.848000</td>\n",
              "      <td>0.160000</td>\n",
              "    </tr>\n",
              "    <tr>\n",
              "      <th>max</th>\n",
              "      <td>0.999500</td>\n",
              "      <td>0.367000</td>\n",
              "      <td>1.000000</td>\n",
              "      <td>0.572000</td>\n",
              "    </tr>\n",
              "  </tbody>\n",
              "</table>\n",
              "</div>"
            ],
            "text/plain": [
              "         compound         neg         neu         pos\n",
              "count  498.000000  498.000000  498.000000  498.000000\n",
              "mean     0.157265    0.086807    0.793233    0.119920\n",
              "std      0.683050    0.062281    0.092626    0.078965\n",
              "min     -0.994500    0.000000    0.428000    0.000000\n",
              "25%     -0.493900    0.045250    0.738250    0.070250\n",
              "50%      0.318950    0.082000    0.798000    0.109000\n",
              "75%      0.817600    0.119750    0.848000    0.160000\n",
              "max      0.999500    0.367000    1.000000    0.572000"
            ]
          },
          "metadata": {
            "tags": []
          },
          "execution_count": 9
        }
      ]
    },
    {
      "cell_type": "code",
      "metadata": {
        "colab": {
          "base_uri": "https://localhost:8080/"
        },
        "id": "NFUbBSBBrNW_",
        "outputId": "cbd041a2-965e-4c30-d3a5-cf58105da9e8"
      },
      "source": [
        "# Step-3a | Final Answer\n",
        "Final_df = len(df[df['compound'] > 0])\n",
        "Final_df"
      ],
      "execution_count": null,
      "outputs": [
        {
          "output_type": "execute_result",
          "data": {
            "text/plain": [
              "291"
            ]
          },
          "metadata": {
            "tags": []
          },
          "execution_count": 10
        }
      ]
    },
    {
      "cell_type": "code",
      "metadata": {
        "colab": {
          "base_uri": "https://localhost:8080/"
        },
        "id": "TnliMGxCVEqc",
        "outputId": "49c2459a-b584-4b97-9fe3-095461763daf"
      },
      "source": [
        "# Step-3b\n",
        "Final_df1 = len(df[df['compound'] < 0])\n",
        "Final_df1"
      ],
      "execution_count": null,
      "outputs": [
        {
          "output_type": "execute_result",
          "data": {
            "text/plain": [
              "186"
            ]
          },
          "metadata": {
            "tags": []
          },
          "execution_count": 11
        }
      ]
    },
    {
      "cell_type": "code",
      "metadata": {
        "colab": {
          "base_uri": "https://localhost:8080/"
        },
        "id": "WwPXWRmEVMz6",
        "outputId": "c23699c0-18c7-46f7-8c91-e5197ba63d51"
      },
      "source": [
        "# Step-3c\n",
        "Final_df2 = len(df[df['compound'] == 0])\n",
        "Final_df2"
      ],
      "execution_count": null,
      "outputs": [
        {
          "output_type": "execute_result",
          "data": {
            "text/plain": [
              "21"
            ]
          },
          "metadata": {
            "tags": []
          },
          "execution_count": 12
        }
      ]
    },
    {
      "cell_type": "markdown",
      "metadata": {
        "id": "zw9cLu6hHgB9"
      },
      "source": [
        "## Step-2 What does the distribution of sentiments look like?\n",
        "\n",
        "(Create a [histogram](https://plotly.com/python/histograms/).)"
      ]
    },
    {
      "cell_type": "code",
      "metadata": {
        "id": "nyy95RZeHRtr"
      },
      "source": [
        "# Load libraries\n",
        "from IPython import display\n",
        "import math\n",
        "from pprint import pprint\n",
        "import pandas as pd\n",
        "import numpy as np\n",
        "import nltk\n",
        "import matplotlib.pyplot as plt\n",
        "import seaborn as sns\n",
        "sns.set(style='darkgrid', context='talk', palette='Dark2')"
      ],
      "execution_count": null,
      "outputs": []
    },
    {
      "cell_type": "code",
      "metadata": {
        "colab": {
          "base_uri": "https://localhost:8080/",
          "height": 747
        },
        "id": "bN6NGEZQdaMa",
        "outputId": "2169616f-b141-4ed4-b66a-e7038803cf04"
      },
      "source": [
        "df['label'] = 0\n",
        "df.loc[df['compound'] > 0, 'label'] = 1\n",
        "df.loc[df['compound'] < 0, 'label'] = -1\n",
        "df.loc[df['compound'] == 0, 'label'] = 0\n",
        "df.head()"
      ],
      "execution_count": null,
      "outputs": [
        {
          "output_type": "execute_result",
          "data": {
            "text/html": [
              "<div>\n",
              "<style scoped>\n",
              "    .dataframe tbody tr th:only-of-type {\n",
              "        vertical-align: middle;\n",
              "    }\n",
              "\n",
              "    .dataframe tbody tr th {\n",
              "        vertical-align: top;\n",
              "    }\n",
              "\n",
              "    .dataframe thead th {\n",
              "        text-align: right;\n",
              "    }\n",
              "</style>\n",
              "<table border=\"1\" class=\"dataframe\">\n",
              "  <thead>\n",
              "    <tr style=\"text-align: right;\">\n",
              "      <th></th>\n",
              "      <th>id</th>\n",
              "      <th>date</th>\n",
              "      <th>content</th>\n",
              "      <th>rating</th>\n",
              "      <th>compound</th>\n",
              "      <th>neg</th>\n",
              "      <th>neu</th>\n",
              "      <th>pos</th>\n",
              "      <th>label</th>\n",
              "    </tr>\n",
              "  </thead>\n",
              "  <tbody>\n",
              "    <tr>\n",
              "      <th>0</th>\n",
              "      <td>DOT-OST-2018-0068-14971</td>\n",
              "      <td>2020-02-24T05:00:00Z</td>\n",
              "      <td>My wife was depressed on a daily basis. She cried all the time. Once we got our little puppy, my wife feels she has a purpose and has not cried since. She needs to have him with her when travelling or she is very stressed and depressed. He has made such a difference. Please don't take away the ability for our dog to travel with her.</td>\n",
              "      <td>{'neg': 0.156, 'neu': 0.757, 'pos': 0.087, 'compound': -0.7486}</td>\n",
              "      <td>-0.7486</td>\n",
              "      <td>0.156</td>\n",
              "      <td>0.757</td>\n",
              "      <td>0.087</td>\n",
              "      <td>-1</td>\n",
              "    </tr>\n",
              "    <tr>\n",
              "      <th>1</th>\n",
              "      <td>DOT-OST-2018-0068-14917</td>\n",
              "      <td>2020-02-24T05:00:00Z</td>\n",
              "      <td>Docket number (DOT-OST-2018-0068) and the Regulatory ID number (RIN No. 2105-AE63)I am very much in favor of amended regulations that provide strict definitions for what type of animals might be permitted to accompany flyers in the cabin of commercial aircraft. As I have read the pending rules, only a properly trained service dog would fulfill the criteria to accompany a passenger with special needs in the cabin. The wide and random acceptance of  non-professional trained emotional support animals in the cabin of aircraft would cease. This is essential for the health and safety of the passengers at large as well as the hard working crew. I hope to see this change made very soon. Thank you.</td>\n",
              "      <td>{'neg': 0.01, 'neu': 0.772, 'pos': 0.218, 'compound': 0.974}</td>\n",
              "      <td>0.9740</td>\n",
              "      <td>0.010</td>\n",
              "      <td>0.772</td>\n",
              "      <td>0.218</td>\n",
              "      <td>1</td>\n",
              "    </tr>\n",
              "    <tr>\n",
              "      <th>2</th>\n",
              "      <td>DOT-OST-2018-0068-14918</td>\n",
              "      <td>2020-02-24T05:00:00Z</td>\n",
              "      <td>Service animals should be restricted to those animals previously designated to aid physically incapacitated individuals and emotional  support animals do not fulfil that category. Additionally dogs appear to be the only animal that I have observed capable of performing this task. All of the other pre-requisites appear to be reasonable  requirements.</td>\n",
              "      <td>{'neg': 0.094, 'neu': 0.788, 'pos': 0.118, 'compound': 0.1027}</td>\n",
              "      <td>0.1027</td>\n",
              "      <td>0.094</td>\n",
              "      <td>0.788</td>\n",
              "      <td>0.118</td>\n",
              "      <td>1</td>\n",
              "    </tr>\n",
              "    <tr>\n",
              "      <th>3</th>\n",
              "      <td>DOT-OST-2018-0068-14919</td>\n",
              "      <td>2020-02-24T05:00:00Z</td>\n",
              "      <td>RE:  DOCKET NUMBER DOT-OST-2018-0068I am a psychotherapist who has worked with many people with PTSD and Severe panic attacks.  I have spoken with men whose PTSD, from serving in the military, has been so severe that they cannot go anywhere without their emotional support animals.  I have also treated people who have such bad  panic attacks that they become paralyzed or sometimes even faint.I implore you to not take away the privilege of these people having their ESAs on planes, to provide necessary comfort.  Just because you cannot see a disorder, doesn't mean  it doesn't exist.  I liken it to a domestic violence survivor who was emotionally abused.  His or her pain can be just as great as one who was physically abused.You will be doing a  tremendous disservice to people who legitimately need their ESAs, if you don't let these people travelwith them.  How can passengers prove that the service their ESAs serve is to help them feel safe? This is not an observerable task.Clearly people have abused this policy and that couldn't be more wrong.  However, there must be a better solution than what the DOT is proposing.  Some airlines are having passengers sign waivers that their pets are well-trained.  Can't that be enough?  Also, can't the proposal just consider allowing people with just dogs and cats as ESAs?Please consider what I have said.  If this rule is instituted, many people's lives will be severely negatively affected.Thank you.</td>\n",
              "      <td>{'neg': 0.15, 'neu': 0.748, 'pos': 0.102, 'compound': -0.9397}</td>\n",
              "      <td>-0.9397</td>\n",
              "      <td>0.150</td>\n",
              "      <td>0.748</td>\n",
              "      <td>0.102</td>\n",
              "      <td>-1</td>\n",
              "    </tr>\n",
              "    <tr>\n",
              "      <th>4</th>\n",
              "      <td>DOT-OST-2018-0068-14920</td>\n",
              "      <td>2020-02-24T05:00:00Z</td>\n",
              "      <td>I really appreciate the time that has been spent to really create a workable definition for what should reasonably considered a service animal. I would like to take the time to comment as a frequent passenger of airlines, as my experience is limited to that specifically on the call for comment on restriction by breed. Cabin spaces can be incredibly confined and the presence of a dog that exhibits characteristics of Bully breeds might initially suggest that these dogs should be prohibited. However I would like to offer two counterpoints (1) Bully breeds vary in size and (2) Significant accommodation and allowance are made for large bags As in all breeds there is significant variance of size. While what some would consider pit bulls can be as large as boxers there are others that due to their mixed background are much smaller than a golden retriever or German shepherd which might be considered the poster dogs for service animals. Simply restricting on the basis of appearance of Bully breeding, is close but not sufficient as a workable definition and places legitimate service animals and their handlers at risk. Second, from a narrative standpoint, as a student I have consistently observed the large backpacks taken by students onto planes at the beginning or end of breaks. These bags stuffed with books, computers, and supplies are often too large to fit underneath the slightly smaller spaces allotted for the aisle and window seats. In my own experience, I have only known legitimate service dogs to sit in the front row where they have space to lay or in a separate reserved seat.  Given the tolerance we understandably extend to college students at the holidays, I think it would not be unreasonable to extend similar patience towards dogs that significantly improve and aid their handler's successful maneuvering through society.</td>\n",
              "      <td>{'neg': 0.038, 'neu': 0.863, 'pos': 0.098, 'compound': 0.9635}</td>\n",
              "      <td>0.9635</td>\n",
              "      <td>0.038</td>\n",
              "      <td>0.863</td>\n",
              "      <td>0.098</td>\n",
              "      <td>1</td>\n",
              "    </tr>\n",
              "  </tbody>\n",
              "</table>\n",
              "</div>"
            ],
            "text/plain": [
              "                        id                  date  ...    pos label\n",
              "0  DOT-OST-2018-0068-14971  2020-02-24T05:00:00Z  ...  0.087    -1\n",
              "1  DOT-OST-2018-0068-14917  2020-02-24T05:00:00Z  ...  0.218     1\n",
              "2  DOT-OST-2018-0068-14918  2020-02-24T05:00:00Z  ...  0.118     1\n",
              "3  DOT-OST-2018-0068-14919  2020-02-24T05:00:00Z  ...  0.102    -1\n",
              "4  DOT-OST-2018-0068-14920  2020-02-24T05:00:00Z  ...  0.098     1\n",
              "\n",
              "[5 rows x 9 columns]"
            ]
          },
          "metadata": {
            "tags": []
          },
          "execution_count": 14
        }
      ]
    },
    {
      "cell_type": "code",
      "metadata": {
        "colab": {
          "base_uri": "https://localhost:8080/"
        },
        "id": "_bDnAe-5eTv3",
        "outputId": "97e17e05-f7d2-434b-c94a-af3afea8d5f1"
      },
      "source": [
        "from pprint import pprint\n",
        "print(\"Positive headlines:\\n\")\n",
        "pprint(list(df[df['label'] == 1].content)[:5], width=200)\n",
        "\n",
        "print(\"\\nNegative headlines:\\n\")\n",
        "pprint(list(df[df['label'] == -1].content)[:5], width=200)"
      ],
      "execution_count": null,
      "outputs": [
        {
          "output_type": "stream",
          "text": [
            "Positive headlines:\n",
            "\n",
            "['Docket number (DOT-OST-2018-0068) and the Regulatory ID number (RIN No. 2105-AE63)I am very much in favor of amended regulations that provide strict definitions for what type of animals might be '\n",
            " 'permitted to accompany flyers in the cabin of commercial aircraft. As I have read the pending rules, only a properly trained service dog would fulfill the criteria to accompany a passenger with '\n",
            " 'special needs in the cabin. The wide and random acceptance of  non-professional trained emotional support animals in the cabin of aircraft would cease. This is essential for the health and safety '\n",
            " 'of the passengers at large as well as the hard working crew. I hope to see this change made very soon. Thank you. ',\n",
            " 'Service animals should be restricted to those animals previously designated to aid physically incapacitated individuals and emotional  support animals do not fulfil that category. Additionally '\n",
            " 'dogs appear to be the only animal that I have observed capable of performing this task. All of the other pre-requisites appear to be reasonable  requirements.',\n",
            " 'I really appreciate the time that has been spent to really create a workable definition for what should reasonably considered a service animal. I would like to take the time to comment as a '\n",
            " 'frequent passenger of airlines, as my experience is limited to that specifically on the call for comment on restriction by breed. Cabin spaces can be incredibly confined and the presence of a dog '\n",
            " 'that exhibits characteristics of Bully breeds might initially suggest that these dogs should be prohibited. However I would like to offer two counterpoints (1) Bully breeds vary in size and (2) '\n",
            " 'Significant accommodation and allowance are made for large bags As in all breeds there is significant variance of size. While what some would consider pit bulls can be as large as boxers there are '\n",
            " 'others that due to their mixed background are much smaller than a golden retriever or German shepherd which might be considered the poster dogs for service animals. Simply restricting on the basis '\n",
            " 'of appearance of Bully breeding, is close but not sufficient as a workable definition and places legitimate service animals and their handlers at risk. Second, from a narrative standpoint, as a '\n",
            " 'student I have consistently observed the large backpacks taken by students onto planes at the beginning or end of breaks. These bags stuffed with books, computers, and supplies are often too large '\n",
            " 'to fit underneath the slightly smaller spaces allotted for the aisle and window seats. In my own experience, I have only known legitimate service dogs to sit in the front row where they have space '\n",
            " 'to lay or in a separate reserved seat.  Given the tolerance we understandably extend to college students at the holidays, I think it would not be unreasonable to extend similar patience towards '\n",
            " \"dogs that significantly improve and aid their handler's successful maneuvering through society. \",\n",
            " 'Revoking our rights to fly with an emotional support animal is a direct discriminatory attack on those of us suffering from a clinical mental condition. If this is taken away our ability to enjoy '\n",
            " 'life through travel and exploring this world is stripped. ',\n",
            " 'Re:  the proposed ban on emotional support animals.I certainly understand that there has been abuse of the policy.  However those of us who have been certified to bring a pet on board an aircraft '\n",
            " 'do not deserve to be penalized because others have abused the privilege with unusual pets. My small dog has provided me with much comfort during illness and it would be very difficult for me to '\n",
            " 'travel by other means of transportation.  Certapet has questioned me extensively as has a mental health physician.  I have passed all tests and have been relieved that I would be able to travel '\n",
            " 'with my 22 pound golden doodle.  I would be grateful to submit to any other types of examination and I hope that the permission will still be available, though more stringent in the '\n",
            " 'examination.Thank you for your kind attention:  Edith N Slotkin, Jupiter Florida']\n",
            "\n",
            "Negative headlines:\n",
            "\n",
            "['My wife was depressed on a daily basis. She cried all the time. Once we got our little puppy, my wife feels she has a purpose and has not cried since. She needs to have him with her when '\n",
            " \"travelling or she is very stressed and depressed. He has made such a difference. Please don't take away the ability for our dog to travel with her.\",\n",
            " 'RE:  DOCKET NUMBER DOT-OST-2018-0068I am a psychotherapist who has worked with many people with PTSD and Severe panic attacks.  I have spoken with men whose PTSD, from serving in the military, has '\n",
            " 'been so severe that they cannot go anywhere without their emotional support animals.  I have also treated people who have such bad  panic attacks that they become paralyzed or sometimes even '\n",
            " \"faint.I implore you to not take away the privilege of these people having their ESAs on planes, to provide necessary comfort.  Just because you cannot see a disorder, doesn't mean  it doesn't \"\n",
            " 'exist.  I liken it to a domestic violence survivor who was emotionally abused.  His or her pain can be just as great as one who was physically abused.You will be doing a  tremendous disservice to '\n",
            " \"people who legitimately need their ESAs, if you don't let these people travelwith them.  How can passengers prove that the service their ESAs serve is to help them feel safe? This is not an \"\n",
            " \"observerable task.Clearly people have abused this policy and that couldn't be more wrong.  However, there must be a better solution than what the DOT is proposing.  Some airlines are having \"\n",
            " \"passengers sign waivers that their pets are well-trained.  Can't that be enough?  Also, can't the proposal just consider allowing people with just dogs and cats as ESAs?Please consider what I have \"\n",
            " \"said.  If this rule is instituted, many people's lives will be severely negatively affected.Thank you.\",\n",
            " 'These regulations neglect to consider the health and safety of human passengers. There should be a provision for persons with dog allergies and people with dog-induced PTSD to request and receive '\n",
            " 'a change of seat away from the offending animal.   ',\n",
            " 'To Whom It May Concern,Even the thought of my right to take my ESA with me on flights being stripped away brings me tremendous anxiety. I have an ESA female mini golden doodle dog named Trixie '\n",
            " 'whom is a mere 15 pounds. It is astonishing to think an animal so small has so much effect on my state of mind. Flying is for me a stress-induced event given all the obstacles and interferences '\n",
            " 'from driving to the airport, battling the traffic of LAX, the long security lines, and the small window of space where one has to sit for what seems to be an eternity to visit loved ones those few '\n",
            " 'times a year. The world is changing. It is more spread out. People would stay closer to home and travel less back in the day. I remember family road trips and get-togethers. Flying was easier too. '\n",
            " 'I remember loved ones were able to see you to your gate or would be waiting there to pick you up upon arrival. It was easier to bear those rare flights, and for me they were with family. Ever '\n",
            " 'since 9/11 everything has changed.I live and work in Los Angeles, but my family is in the Midwest, New York and Florida. Without Trixie I would be reluctant to take these flights. It would strain '\n",
            " 'my relationship with my family. The fear and anxiety it would cause me is a horrific condition that induces a tremendous amount of stress on me. I attempted to treat in the past with various '\n",
            " 'psychiatrists, but was prescribed medication, which led to other issues including a serious Xanax dependency and a few years ago a string of panics that sent me to the emergency room in fear of my '\n",
            " 'life. Since discovering the benefits of my ESA it has not only made flying much more bearable and realistic for me, but Trixie has helped me manage some of my fears and anxieties. I cannot put '\n",
            " 'into words the comfort and physical effect Trixie has on me. She rests quietly under my seat during the flight. This is the space I paid for with my plane ticket. Some people may choose to put '\n",
            " 'their small bag underneath the seat instead. Either way, Trixie brings no burden to the airline and usually goes unnoticed. It would be a mistake to ban ESAs like Trixie, and would be unethical to '\n",
            " 'charge owners given the ESAs do not gain additional space or any other benefit or resource from the airline the owners have not already paid for with their standard ticket cost.Thank you for '\n",
            " 'taking the time to read my concern. Please be considerate of those that are being impacted tremendously by banning ESAs.',\n",
            " \"I am 80 years old snd travel regularly between New York and South Carolina.  Having my 25 pound dog accompany me on my trips is critical for my well being.  I don't have a good alternative.  \"\n",
            " \"Driving is too strenuous and the airlines won't sell me a seat for the dog.  They have a poor record when it comes to carrying pets in cargo.  I believe that there are examples of abuse of the ESA \"\n",
            " \"system.  I suggest that rather than ban ESA's completely a series of reasonable accommodations be considered.  These can include types of animals allowed or prohibited( eg reptiles and toy \"\n",
            " 'horses), size limitations (35-40 pounds), breed restrictions (eg Pit Bulls) and specific training requirements.']\n"
          ],
          "name": "stdout"
        }
      ]
    },
    {
      "cell_type": "code",
      "metadata": {
        "colab": {
          "base_uri": "https://localhost:8080/"
        },
        "id": "eHNvF4j0eyPH",
        "outputId": "29efcb4e-641a-4b9c-c788-6ddde9c2df2d"
      },
      "source": [
        "# Count values\n",
        "print(df.label.value_counts())\n",
        "print(df.label.value_counts(normalize=True) * 100)"
      ],
      "execution_count": null,
      "outputs": [
        {
          "output_type": "stream",
          "text": [
            " 1    291\n",
            "-1    186\n",
            " 0     21\n",
            "Name: label, dtype: int64\n",
            " 1    58.433735\n",
            "-1    37.349398\n",
            " 0     4.216867\n",
            "Name: label, dtype: float64\n"
          ],
          "name": "stdout"
        }
      ]
    },
    {
      "cell_type": "code",
      "metadata": {
        "colab": {
          "base_uri": "https://localhost:8080/",
          "height": 495
        },
        "id": "ZYlaJeM6fAgd",
        "outputId": "ffbf7220-2ae5-4a4a-a487-1c9f7ce7f360"
      },
      "source": [
        "# Final Step | Histogram\n",
        "fig, ax = plt.subplots(figsize=(8, 8))\n",
        "\n",
        "counts = df.label.value_counts(normalize=True) * 100\n",
        "\n",
        "sns.barplot(x=counts.index, y=counts, ax=ax)\n",
        "\n",
        "ax.set_xticklabels(['Negative', 'Neutral', 'Positive'])\n",
        "ax.set_ylabel(\"Percentage\")\n",
        "\n",
        "plt.show()"
      ],
      "execution_count": null,
      "outputs": [
        {
          "output_type": "display_data",
          "data": {
            "image/png": "[encoded data removed]",
            "text/plain": [
              "<Figure size 576x576 with 1 Axes>"
            ]
          },
          "metadata": {
            "tags": []
          }
        }
      ]
    },
    {
      "cell_type": "markdown",
      "metadata": {
        "id": "DRpVqnixIeFu"
      },
      "source": [
        "# Exploration\n",
        "\n",
        "Homework 6, the final project, is open-ended: The goal is to prove or disprove a hypothesis using the skills learned in this class. In the real world, one would start with a specific question and find data to answer it, but the data needed often doesn't exist or is hard (or impossible) to find/access. The recommended, safer approach, for the purposes of this assignment:\n",
        "\n",
        "1. Find a dataset that seems interesting.\n",
        "  - [NYC OpenData](https://opendata.cityofnewyork.us/), [data.gov](https://www.data.gov/), and [Kaggle](https://www.kaggle.com/datasets) have many many options.\n",
        "  - Finding a dataset available in CSV or Excel formats ([Pandas can also read the latter](https://pandas.pydata.org/pandas-docs/stable/reference/api/pandas.read_excel.html)) is recommended.\n",
        "1. Look at the columns and some data in the dataset.\n",
        "1. Come up with a question that the data is capable of answering and _isn't trivial to answer_.\n",
        "  - If you aren't sure, ask.\n",
        "1. Come up with a hypothesis (a.k.a. a guess of the answer to the question).\n",
        "1. Answer the questions below, as the \"pitch\" for Homework 6. Example:\n",
        "  - **Dataset:** [Recycling Diversion and Capture Rates](https://data.cityofnewyork.us/Environment/Recycling-Diversion-and-Capture-Rates/gaq9-z3hz)\n",
        "  - **Question:** What community district increased their diversion (recycling) rate the most?\n",
        "  - **Hypothesis:** [Bushwick](https://communityprofiles.planning.nyc.gov/brooklyn/4), because hipsters love to recycle.\n",
        "1. Create a new notebook to do the actual analysis; you will turn that in separately."
      ]
    },
    {
      "cell_type": "markdown",
      "metadata": {
        "id": "TOr_N4L3HgB9"
      },
      "source": [
        "## Expectations\n",
        "\n",
        "Your question/hypothesis doesn't need to be something novel; confirming something you read in the news is fine. Your analysis should:\n",
        "\n",
        "- Read like a narrative/diary/logbook, walking the reader through all analysis. Include any dead ends you hit.\n",
        "- Use pandas\n",
        "- Require more than a few lines of code to come to a conclusion\n",
        "- Transform data through filtering (a.k.a. [boolean indexing](https://pandas.pydata.org/pandas-docs/stable/user_guide/indexing.html#boolean-indexing)), [grouping](https://pandas.pydata.org/pandas-docs/stable/user_guide/groupby.html), and/or [merging](https://pandas.pydata.org/pandas-docs/stable/user_guide/merging.html#database-style-dataframe-or-named-series-joining-merging) of DataFrames\n",
        "- Have a visualization (chart or map) of some kind\n",
        "- Be something that would be hard to do in a spreadsheet"
      ]
    },
    {
      "cell_type": "markdown",
      "metadata": {
        "id": "uLsVN04HHgB9"
      },
      "source": [
        "## What dataset are you going to use?\n",
        "\n",
        "_If multiple, how are you going to merge/join them?_\n",
        "\n",
        "I am going to use NYC 311 Complaint Dataset for my final project. \n",
        "Dataset Name: 311 Service Requests from 2010 to Present\n",
        "Dataset Link: https://data.cityofnewyork.us/Social-Services/311-Service-Requests-from-2010-to-Present/erm2-nwe9"
      ]
    },
    {
      "cell_type": "markdown",
      "metadata": {
        "id": "TZcngHgyHgB9"
      },
      "source": [
        "## What's the question you are trying to answer?\n",
        "\n",
        "I have a couple of ideas about my final assignment. \n",
        "\n",
        "Option1: Relationship netween noise compliant and under-18 childern living in those community district.\n",
        "\n",
        "Option2: Relationship between street cleaniness score and 'Unsanitary Condition'(garbage on the streets) complaints.\n",
        "\n",
        "Option3: Does poverty rate correlate with the number of 311 heat/hot water and unsanitary conditions requests across community districts?\n",
        "\n",
        "Option4: Is there a correltion between type of complaint or service requested and location related?"
      ]
    },
    {
      "cell_type": "markdown",
      "metadata": {
        "id": "xIp7AgiHHgB9"
      },
      "source": [
        "## What's your hypothesis?\n",
        "\n",
        "Option-1 Hypothesis:\n",
        "From the data, I think the more chidlren or teenagers we have in the community (high under_18 rate), there will be more complaints about noise in residential area.\n",
        "\n",
        "Option-2 Hypothesis:\n",
        "There is a positive/negative correlation between street cleaniness score and 'Unsanitary Condition'(garbage on the streets) complaints. This is because if there are many complaints about unsanitary condition, it means the street is not clean. The more complaints about unsanitary condition there are, the less clean the streets are. \n",
        "\n",
        "Option-3 Hypothesis:\n",
        "The hypothesis for this analysis is that community districts with higher prevalence of poverty will have increased number of heat/hot water and unsanitary conditions requests. Community districts with higher proportion of poverty tend to have a greater number of low income housing, commmonly in substandard, not properly/adequately maintained conditions. Neglected maintenance of these housing units exposes residents to malfunctioning heating units and poor and unsanitary living conditions (mold, rodents, etc.,). As a result, I hypothesize that the greater the prevalence of poverty in a community district, the higher the likelihood that residents will inititate 311 requests about heat/hot water and unsanitary conditions"
      ]
    },
    {
      "cell_type": "markdown",
      "metadata": {
        "id": "PQRFW5QHYcZf"
      },
      "source": [
        "# **Note:**\n",
        "\n",
        "Dear Prof Aidan,\n",
        "\n",
        "I would love to discuss all four options with you before I start my final assignment. \n",
        "\n",
        "\n",
        "Thanks & Regards,\n",
        "Maitri\n",
        "\n"
      ]
    }
  ]
}