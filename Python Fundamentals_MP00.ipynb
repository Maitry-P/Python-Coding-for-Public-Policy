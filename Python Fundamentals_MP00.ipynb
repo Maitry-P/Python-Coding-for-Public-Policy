{
  "nbformat": 4,
  "nbformat_minor": 0,
  "metadata": {
    "file_extension": ".py",
    "kernelspec": {
      "display_name": "Python 3.8.0 64-bit",
      "language": "python",
      "name": "python38064bite2b734199e274226979ef410f6f20e23"
    },
    "language_info": {
      "codemirror_mode": {
        "name": "ipython",
        "version": 3
      },
      "file_extension": ".py",
      "mimetype": "text/x-python",
      "name": "python",
      "nbconvert_exporter": "python",
      "pygments_lexer": "ipython3",
      "version": "3.8.0"
    },
    "mimetype": "text/x-python",
    "name": "python",
    "npconvert_exporter": "python",
    "pygments_lexer": "ipython3",
    "version": 3,
    "colab": {
      "name": "Python Fundamentals_MP00.ipynb",
      "provenance": [],
      "collapsed_sections": [],
      "include_colab_link": true
    }
  },
  "cells": [
    {
      "cell_type": "markdown",
      "metadata": {
        "id": "view-in-github",
        "colab_type": "text"
      },
      "source": [
        "<a href=\"https://colab.research.google.com/github/Maitry-P/Python-Coding-for-Public-Policy/blob/main/Python%20Fundamentals_MP00.ipynb\" target=\"_parent\"><img src=\"https://colab.research.google.com/assets/colab-badge.svg\" alt=\"Open In Colab\"/></a>"
      ]
    },
    {
      "cell_type": "markdown",
      "metadata": {
        "id": "E0_VNAvtfBQ-"
      },
      "source": [
        "<a href=\"https://colab.research.google.com/github/afeld/python-public-policy/blob/master/hw_0.ipynb\" target=\"_parent\"><img src=\"https://colab.research.google.com/assets/colab-badge.svg\" alt=\"Open In Colab\"/></a>\n",
        "\n",
        "# Homework 0: Python fundamentals\n",
        "\n",
        "[Kaggle](https://www.kaggle.com/) is a data science platform that has various [tutorials](https://www.kaggle.com/learn/overview) and [competitions](https://www.kaggle.com/competitions), which you may want to go back to later. You are welcome to create a Kaggle account to save your progress, but it's not required.\n",
        "\n",
        "Kaggle, like Google Colab, is built around Jupyter notebooks. Therefore, the two are not _exactly_ the same, but will feel similar. For this homework:\n",
        "\n",
        "1. Do following Kaggle [Learn Python](https://www.kaggle.com/learn/python) tutorials and exercises:\n",
        "    - [Hello, Python](https://www.kaggle.com/colinmorris/hello-python)\n",
        "    - [Booleans and Conditionals](https://www.kaggle.com/colinmorris/booleans-and-conditionals)\n",
        "    - [Strings and Dictionaries](https://www.kaggle.com/colinmorris/strings-and-dictionaries)\n",
        "1. Do the coding challenges below\n",
        "1. Do the following Kaggle tutorials and exercises:\n",
        "    - [Python Lists](https://www.kaggle.com/colinmorris/lists)\n",
        "    - [Creating, Reading, and Writing with Pandas](https://www.kaggle.com/residentmario/creating-reading-and-writing)\n",
        "1. Fill in one or more questions at the bottom\n",
        "1. [Turn in the assignment](https://github.com/afeld/python-public-policy#turning-in-assignments)\n",
        "\n",
        "## Coding\n",
        "\n",
        "### Getting input\n",
        "\n",
        "To get information from a user, we can use Python's [`input()`](https://docs.python.org/3/library/functions.html#input) function."
      ]
    },
    {
      "cell_type": "code",
      "metadata": {
        "id": "iYnd-FEMfBQ_",
        "colab": {
          "base_uri": "https://localhost:8080/",
          "height": 52
        },
        "outputId": "aa4a0d46-70b2-4f9e-fb96-a12129a852d8"
      },
      "source": [
        "word = input(\"Give me a word: \")\n",
        "word"
      ],
      "execution_count": null,
      "outputs": [
        {
          "output_type": "stream",
          "text": [
            "Give me a word: AA\n"
          ],
          "name": "stdout"
        },
        {
          "output_type": "execute_result",
          "data": {
            "application/vnd.google.colaboratory.intrinsic+json": {
              "type": "string"
            },
            "text/plain": [
              "'AA'"
            ]
          },
          "metadata": {
            "tags": []
          },
          "execution_count": 1
        }
      ]
    },
    {
      "cell_type": "markdown",
      "metadata": {
        "id": "NZDFAYHidB-c"
      },
      "source": [
        "##HW0 Assignment | Python Coding for Policy\n",
        "Name: Maitri Pujara\n",
        "\n",
        "Date: 28 October, 2020"
      ]
    },
    {
      "cell_type": "code",
      "metadata": {
        "id": "Kxupup0GdavG",
        "colab": {
          "base_uri": "https://localhost:8080/"
        },
        "outputId": "3df6e794-26fc-4de6-aa61-903ac5a1414b"
      },
      "source": [
        "print(\"Hello Everyone!\")\n",
        "print(\"Let's get started.\")"
      ],
      "execution_count": null,
      "outputs": [
        {
          "output_type": "stream",
          "text": [
            "Hello Everyone!\n",
            "Let's get started.\n"
          ],
          "name": "stdout"
        }
      ]
    },
    {
      "cell_type": "markdown",
      "metadata": {
        "id": "FznBb9VqfBRE"
      },
      "source": [
        "### Challege 0: Mad lib\n",
        "\n",
        "You are going to make a (short) interactive [mad lib](https://hobbylark.com/party-games/How-to-Make-Your-Own-Mad-Libs). Use a paragraph of a story or the chorus from a song, or make one up. Prompt for each of the words (\"noun\", \"verb\", \"vehicle\", etc.), then once they are all entered, it output the mad lib with the provided words filled in. You will be using multiple `inputs()` and string concatentation."
      ]
    },
    {
      "cell_type": "markdown",
      "metadata": {
        "id": "2HV0noJ1doP4"
      },
      "source": [
        "Note: I have made three different examples for challenge-0\n",
        "\n",
        "Thank you for your understanding!"
      ]
    },
    {
      "cell_type": "code",
      "metadata": {
        "id": "twd24iI1fBRF",
        "colab": {
          "base_uri": "https://localhost:8080/"
        },
        "outputId": "91db76a8-a7e3-4dae-ca9a-b7648db99ecd"
      },
      "source": [
        "#Example-1\n",
        "color = input(\"Enter a color: \")\n",
        "plural_noun = input(\"Enter a Plural Noun: \")\n",
        "celebrity = input(\"Enter a celebrity: \")\n",
        "\n",
        "print(\"Roses are \" +  color)\n",
        "print(plural_noun + \" are blue\")\n",
        "print(\"I love \" + celebrity)"
      ],
      "execution_count": null,
      "outputs": [
        {
          "output_type": "stream",
          "text": [
            "Enter a color: Red\n",
            "Enter a Plural Noun: India\n",
            "Enter a celebrity: John\n",
            "Roses are Red\n",
            "India are blue\n",
            "I love John\n"
          ],
          "name": "stdout"
        }
      ]
    },
    {
      "cell_type": "code",
      "metadata": {
        "id": "HHLBZF_Z2DDF",
        "colab": {
          "base_uri": "https://localhost:8080/"
        },
        "outputId": "c4ca95f7-a5b0-42fd-f551-88944674e9c1"
      },
      "source": [
        "#Example-2\n",
        "noun1 = input(\"Enter an animal: \")\n",
        "noun2 = input(\"Enter another animal: \")\n",
        "noun3 = input(\"Enter an object: \")                                                    \n",
        " \n",
        "print(\"The \" + noun1 + \" and the \" + noun2 + \" went to sea in a beautiful pea green \" + noun3)"
      ],
      "execution_count": null,
      "outputs": [
        {
          "output_type": "stream",
          "text": [
            "Enter an animal: Fox\n",
            "Enter another animal: Cow\n",
            "Enter an object: Table\n",
            "The Fox and the Cow went to sea in a beautiful pea green Table\n"
          ],
          "name": "stdout"
        }
      ]
    },
    {
      "cell_type": "code",
      "metadata": {
        "id": "-955TPph32TK",
        "colab": {
          "base_uri": "https://localhost:8080/"
        },
        "outputId": "c7c811e1-2a91-428b-a6f2-f75872ec417f"
      },
      "source": [
        "#Example-3\n",
        "name = input(\"Enter a name: \")\n",
        "verb1 = input(\"Enter an 'ing' verb: \")\n",
        "articles1 = input(\"Enter the article: \")\n",
        "student_type = input(\"Enter a type of student: \")\n",
        "degree_name1 = input(\"Enter a type of degree: \")\n",
        "university_name = input(\"Enter the university name: \")\n",
        "verb2 = input(\"Enter an 'ing' verb: \")\n",
        "specialization = input(\"Enter the specialization name\")\n",
        "name = input(\"Enter a name: \")\n",
        "verb3 = input(\"Enter a simple verb: \")\n",
        "articles = input(\"Enter the article: \")\n",
        "degree_name2 = input(\"Enter a type of degree: \")\n",
        "Pronoun = input(\"Enter a pronoun: \")\n",
        "verb4 = input(\"Enter a simple verb: \")\n",
        "print(name+\" is \"+verb1+articles1+student_type+\" student in \"+degree_name1+\" at \"+university_name+verb2+\" with \"+specialization+'.'+name+\" also \"+verb3+\" background in \"+degree_name2+\".\"+\" As an architect and urban planner,\"+Pronoun+verb4+\" that no matter what your profession is, one should always contribute to the transformation and improvement of your surrounding. \" + \" Thank you for your time. \" + \" Have a great day ahead. \")"
      ],
      "execution_count": null,
      "outputs": [
        {
          "output_type": "stream",
          "text": [
            "Enter a name: Maitri\n",
            "Enter an 'ing' verb: playing\n",
            "Enter the article: Between Lines\n",
            "Enter a type of student: Graduate\n",
            "Enter a type of degree: Master of Urban Planning\n",
            "Enter the university name: NYU\n",
            "Enter an 'ing' verb: stydying\n",
            "Enter the specialization nameCity and Community Planning\n",
            "Enter a name: Mansi\n",
            "Enter a simple verb: eats\n",
            "Enter the article: Between spaces\n",
            "Enter a type of degree: Bachelor of Architecture\n",
            "Enter a pronoun: she\n",
            "Enter a simple verb: goes\n",
            "Mansi is playingBetween LinesGraduate student in Master of Urban Planning at NYUstydying with City and Community Planning.Mansi also eats background in Bachelor of Architecture. As an architect and urban planner,shegoes that no matter what your profession is, one should always contribute to the transformation and improvement of your surrounding.  Thank you for your time.  Have a great day ahead. \n"
          ],
          "name": "stdout"
        }
      ]
    },
    {
      "cell_type": "code",
      "metadata": {
        "id": "9wB05Zfd8KMI"
      },
      "source": [
        ""
      ],
      "execution_count": null,
      "outputs": []
    },
    {
      "cell_type": "markdown",
      "metadata": {
        "id": "Zc5nGOYefBRI"
      },
      "source": [
        "### Numeric input\n",
        "\n",
        "`input()` always returns a string. To get a number from a user in Python, you need to convert that input into a integer (or float)."
      ]
    },
    {
      "cell_type": "code",
      "metadata": {
        "id": "8jCdAt9IfBRJ",
        "colab": {
          "base_uri": "https://localhost:8080/",
          "height": 52
        },
        "outputId": "15750e50-0b89-4fdb-e95e-1aeed774e49b"
      },
      "source": [
        "num = input(\"Pick a number, any number. Please enter the value without commas or decimals. > \")\n",
        "num"
      ],
      "execution_count": null,
      "outputs": [
        {
          "output_type": "stream",
          "text": [
            "Pick a number, any number. Please enter the value without commas or decimals. > 33\n"
          ],
          "name": "stdout"
        },
        {
          "output_type": "execute_result",
          "data": {
            "application/vnd.google.colaboratory.intrinsic+json": {
              "type": "string"
            },
            "text/plain": [
              "'33'"
            ]
          },
          "metadata": {
            "tags": []
          },
          "execution_count": 6
        }
      ]
    },
    {
      "cell_type": "code",
      "metadata": {
        "id": "DIxfid9YfBRM",
        "colab": {
          "base_uri": "https://localhost:8080/"
        },
        "outputId": "9763968b-78f8-4fa3-b21e-80f3944046fc"
      },
      "source": [
        "type(num)"
      ],
      "execution_count": null,
      "outputs": [
        {
          "output_type": "execute_result",
          "data": {
            "text/plain": [
              "str"
            ]
          },
          "metadata": {
            "tags": []
          },
          "execution_count": 7
        }
      ]
    },
    {
      "cell_type": "code",
      "metadata": {
        "id": "5vsZXxmKfBRQ",
        "colab": {
          "base_uri": "https://localhost:8080/"
        },
        "outputId": "e2af5d06-c85b-4676-cdf7-3e02207812a6"
      },
      "source": [
        "int(num)"
      ],
      "execution_count": null,
      "outputs": [
        {
          "output_type": "execute_result",
          "data": {
            "text/plain": [
              "33"
            ]
          },
          "metadata": {
            "tags": []
          },
          "execution_count": 8
        }
      ]
    },
    {
      "cell_type": "markdown",
      "metadata": {
        "id": "KoM3Y5O6fBRT"
      },
      "source": [
        "### Challenge 1: Unemployment benefit eligibility assessment\n",
        "\n",
        "We will now make an interactive tool to assess people for unemployment benefits. We will a simplified version of [the rules from the New York State Department of Labor](https://www.labor.ny.gov/formsdocs/ui/TC318.3e.pdf#page=15). To be elegible, one must:\n",
        "\n",
        "- Have lost employment\n",
        "- Have made at least $10,000 in the past year\n",
        "    - Ask for their salary rather than as a yes-or-no question\n",
        "- Be ready, willing and able to work immediately\n",
        "- Be actively seeking work\n",
        "\n",
        "Ask the user questions corresponding to the above, then print `\"You are eligible\"` or `\"You are not eligible\"` at the end. You will need:\n",
        "\n",
        "- `input()`s\n",
        "- `int()`\n",
        "- Conditional(s)"
      ]
    },
    {
      "cell_type": "markdown",
      "metadata": {
        "id": "2ZMh8GYHbtQk"
      },
      "source": [
        "**Part:1 | Employment Eligibility**"
      ]
    },
    {
      "cell_type": "code",
      "metadata": {
        "id": "MDVNkbnvfBRU",
        "colab": {
          "base_uri": "https://localhost:8080/"
        },
        "outputId": "3b3d2472-b454-46cf-ab2e-40c1262209e2"
      },
      "source": [
        "#Part-1a | Have lost Employment\n",
        "Employment = input(\"Enter the reason: \")\n",
        "if Employment == ('Layoff' or 'No Fault of Personal own'):\n",
        "    print('You are eligible')\n",
        "else:\n",
        "    print('You are not eligible')"
      ],
      "execution_count": null,
      "outputs": [
        {
          "output_type": "stream",
          "text": [
            "Enter the reason: layoff\n",
            "You are not eligible\n"
          ],
          "name": "stdout"
        }
      ]
    },
    {
      "cell_type": "code",
      "metadata": {
        "id": "3DSUo_nzY_3k",
        "colab": {
          "base_uri": "https://localhost:8080/"
        },
        "outputId": "c10652ac-e9df-46f0-9670-22bef854953c"
      },
      "source": [
        "#Part-1b | Have lost Employment\n",
        "Employment = input(\"Enter the reason: \")\n",
        "if Employment == ('Layoff' or 'No Fault of Personal own'):\n",
        "    print('You are eligible')\n",
        "else:\n",
        "    print('You are not eligible')"
      ],
      "execution_count": null,
      "outputs": [
        {
          "output_type": "stream",
          "text": [
            "Enter the reason: layoff\n",
            "You are not eligible\n"
          ],
          "name": "stdout"
        }
      ]
    },
    {
      "cell_type": "markdown",
      "metadata": {
        "id": "PXCcAU5kbwd5"
      },
      "source": [
        "**Part:2** | **Salary Eligibility**"
      ]
    },
    {
      "cell_type": "code",
      "metadata": {
        "id": "2ZEbrSh7sext",
        "colab": {
          "base_uri": "https://localhost:8080/"
        },
        "outputId": "c90dfdd8-7bb2-47bb-990c-5bd839113bd7"
      },
      "source": [
        "#Part-2 | Have made at least $10,000 in past year\n",
        "#Earnings required to qualify for benefits\n",
        "#Condition-i. You must have worked and been paid wages in jobs covered by Unemployment Insurance in at least two calendar quarters (Given | Page-10)\n",
        "Unemployment_insurance = input(\"Enter the value (Did it atleast cover two calendar quarters?): \")"
      ],
      "execution_count": null,
      "outputs": [
        {
          "output_type": "stream",
          "text": [
            "Enter the value (Did it atleast cover two calendar quarters?): 11\n"
          ],
          "name": "stdout"
        }
      ]
    },
    {
      "cell_type": "code",
      "metadata": {
        "id": "nO0a5J8x2VvS",
        "colab": {
          "base_uri": "https://localhost:8080/"
        },
        "outputId": "8064a7b6-a4a2-46f9-d565-61df8cf44f01"
      },
      "source": [
        "#Condition-ii. For claims filed in 2020, you must have been paid at least $2,600 in one calendar quarter (Given | Page-10)\n",
        "#For claims effective January 6, 2020 or later, the minimum weekly benefit rate is $104 (Given | Page-11)\n",
        "Weekly_Benefit_Rate= 104 \n",
        "Highest_Quater_Rate = 104 * 26\n",
        "print(\"Final Highest Quater Rate=\",Highest_Quater_Rate)"
      ],
      "execution_count": null,
      "outputs": [
        {
          "output_type": "stream",
          "text": [
            "Final Highest Quater Rate= 2704\n"
          ],
          "name": "stdout"
        }
      ]
    },
    {
      "cell_type": "code",
      "metadata": {
        "id": "LXmFuiuW3n_u",
        "colab": {
          "base_uri": "https://localhost:8080/"
        },
        "outputId": "31cf64f4-0957-40c8-e5e8-3fc3982d757c"
      },
      "source": [
        "#Extra step in condition-ii | I just wanted to explore this Yes/No section. (I hope you understand)\n",
        "one_calendar_quater_requirement = 2600\n",
        "Final_Highest_Quarter_Rate = 2704\n",
        "def earning_required_for_benefits(one_calendar_quater):\n",
        "  \"\"\"Can he/she eligible for benefits?\"\"\"\n",
        "  # New York State Department of Labor Document suggests that it should be at least $ 2600 in one calendar quater\n",
        "  return one_calendar_quater >= 2600\n",
        "print(\"Can he/she eligible for benefits?\", earning_required_for_benefits(2704))\n"
      ],
      "execution_count": null,
      "outputs": [
        {
          "output_type": "stream",
          "text": [
            "Can he/she eligible for benefits? True\n"
          ],
          "name": "stdout"
        }
      ]
    },
    {
      "cell_type": "code",
      "metadata": {
        "id": "USbp7ELR2cbV",
        "colab": {
          "base_uri": "https://localhost:8080/"
        },
        "outputId": "e8d6423e-da95-4ecf-a327-a66e8dfbc187"
      },
      "source": [
        "#Condition-iii. The total wages paid to you must be at least 1.5 times the amount paid to you in your high quarter (Given | Page-10)\n",
        "Final_Highest_Quater_Rate = 2704\n",
        "Base_Period_for_all_quaters = (2704 * 1.5)\n",
        "print(\"Final Base Period for four quaters=\", Base_Period_for_all_quaters)"
      ],
      "execution_count": null,
      "outputs": [
        {
          "output_type": "stream",
          "text": [
            "Final Base Period for four quaters= 4056.0\n"
          ],
          "name": "stdout"
        }
      ]
    },
    {
      "cell_type": "code",
      "metadata": {
        "id": "pvUmUB1XZ8iS",
        "colab": {
          "base_uri": "https://localhost:8080/"
        },
        "outputId": "e4e381db-930b-43f5-f917-677805f4b670"
      },
      "source": [
        "# Final Part-2a\n",
        "Salary = float(input(\"Enter a value: \"))\n",
        "if Salary > 10000:\n",
        "  print('You are eligible')\n",
        "elif Salary == 10000:\n",
        "  print('You are eligible')\n",
        "else:\n",
        "  print('You are not eligible')"
      ],
      "execution_count": null,
      "outputs": [
        {
          "output_type": "stream",
          "text": [
            "Enter a value: 1\n",
            "You are not eligible\n"
          ],
          "name": "stdout"
        }
      ]
    },
    {
      "cell_type": "code",
      "metadata": {
        "id": "WB8rWh8raUVR",
        "colab": {
          "base_uri": "https://localhost:8080/"
        },
        "outputId": "370881e7-8bca-4e89-eed3-5a766c055550"
      },
      "source": [
        "#Final Part-2b\n",
        "Salary = float(input(\"Enter a value: \"))\n",
        "if Salary > 10000:\n",
        "  print('You are eligible')\n",
        "elif Salary == 10000:\n",
        "  print('You are eligible')\n",
        "else:\n",
        "  print('You are not eligible')"
      ],
      "execution_count": null,
      "outputs": [
        {
          "output_type": "stream",
          "text": [
            "Enter a value: 100000000\n",
            "You are eligible\n"
          ],
          "name": "stdout"
        }
      ]
    },
    {
      "cell_type": "markdown",
      "metadata": {
        "id": "vsBZYmGLcKxk"
      },
      "source": [
        "**Part:3** | **Willingness to Work**"
      ]
    },
    {
      "cell_type": "code",
      "metadata": {
        "id": "tbHuTi_TyTDh",
        "colab": {
          "base_uri": "https://localhost:8080/"
        },
        "outputId": "2be3c6ef-1193-4c30-da4a-4e2b150d717a"
      },
      "source": [
        "#Part-3a | Be Ready, willing and able to work immediately\n",
        "Willingness = input(\"Enter a value: \")\n",
        "if Willingness == 'Yes':\n",
        "  print('You are eligible')\n",
        "else:\n",
        "  print('You are not eligible')"
      ],
      "execution_count": null,
      "outputs": [
        {
          "output_type": "stream",
          "text": [
            "Enter a value: 88\n",
            "You are not eligible\n"
          ],
          "name": "stdout"
        }
      ]
    },
    {
      "cell_type": "code",
      "metadata": {
        "id": "22dZ1w9pXe1j",
        "colab": {
          "base_uri": "https://localhost:8080/"
        },
        "outputId": "8ba9633d-d886-40fc-b146-b67b42d66c54"
      },
      "source": [
        "#Part-3b | Be Ready, willing and able to work immediately\n",
        "Willingness = input(\"Enter a value: \")\n",
        "if Willingness == 'Yes':\n",
        "  print('You are eligible')\n",
        "else:\n",
        "  print('You are not eligible')"
      ],
      "execution_count": null,
      "outputs": [
        {
          "output_type": "stream",
          "text": [
            "Enter a value: 6\n",
            "You are not eligible\n"
          ],
          "name": "stdout"
        }
      ]
    },
    {
      "cell_type": "markdown",
      "metadata": {
        "id": "qBQaUieqcQdF"
      },
      "source": [
        "**Part:4** | **Immediate Joinee or not Findings**"
      ]
    },
    {
      "cell_type": "code",
      "metadata": {
        "id": "iFAvpdoYyg-f",
        "colab": {
          "base_uri": "https://localhost:8080/"
        },
        "outputId": "437ec733-0a7b-4bdc-e31b-00042cadec51"
      },
      "source": [
        "#Part-4a | Be Actively seeking work\n",
        "Immediate_Joinee = input(\"Enter a value: \")\n",
        "if Immediate_Joinee == 'Yes':\n",
        "  print('You are eligible')\n",
        "else:\n",
        "  print('You are not eligible')"
      ],
      "execution_count": null,
      "outputs": [
        {
          "output_type": "stream",
          "text": [
            "Enter a value: 78\n",
            "You are not eligible\n"
          ],
          "name": "stdout"
        }
      ]
    },
    {
      "cell_type": "code",
      "metadata": {
        "id": "0FSUV_W0XTBs",
        "colab": {
          "base_uri": "https://localhost:8080/"
        },
        "outputId": "69c954be-841d-423c-862e-b10d4ed82836"
      },
      "source": [
        "#Part-4b | Be Actively seeking work\n",
        "Immediate_Joinee = input(\"Enter a value: \")\n",
        "if Immediate_Joinee == 'Yes':\n",
        "  print('You are eligible')\n",
        "else:\n",
        "  print('You are not eligible')"
      ],
      "execution_count": null,
      "outputs": [
        {
          "output_type": "stream",
          "text": [
            "Enter a value: 1\n",
            "You are not eligible\n"
          ],
          "name": "stdout"
        }
      ]
    },
    {
      "cell_type": "markdown",
      "metadata": {
        "id": "oMR8M4-qcW1d"
      },
      "source": [
        "**Final Output for Challenge-1 | Part:5 | Conclusion**"
      ]
    },
    {
      "cell_type": "code",
      "metadata": {
        "id": "Ys_WM0_AchFr",
        "colab": {
          "base_uri": "https://localhost:8080/"
        },
        "outputId": "0225155e-5c7b-4e40-eb1b-17da885e0499"
      },
      "source": [
        "#Final-1\n",
        "Salary = 10000 \n",
        "\n",
        "Employment = input(\"Enter the reason: \")\n",
        "Salary_Eligibility = int(input(\"Enter a value: \"))\n",
        "Willingness = input(\"Enter a value: \")\n",
        "Immediate_Joinee = input(\"Enter a value: \")\n",
        "if Employment == \"Layoff\" and Salary_Eligibility >= Salary and Willingness == 'Yes' and Immediate_Joinee == 'Yes':\n",
        "    print('You are eligible')\n",
        "else:\n",
        "    print('You are not eligible')\n",
        "print()"
      ],
      "execution_count": null,
      "outputs": [
        {
          "output_type": "stream",
          "text": [
            "Enter the reason: Layoff\n",
            "Enter a value: 100000\n",
            "Enter a value: 10000\n",
            "Enter a value: 1000\n",
            "You are not eligible\n",
            "\n"
          ],
          "name": "stdout"
        }
      ]
    },
    {
      "cell_type": "code",
      "metadata": {
        "id": "CzWNV9fsNcx-",
        "colab": {
          "base_uri": "https://localhost:8080/"
        },
        "outputId": "3bb186d2-4bda-4926-ded4-ccad238b3fd5"
      },
      "source": [
        "#Final-2\n",
        "Salary = 10000 \n",
        "\n",
        "Employment = input(\"Enter the reason: \")\n",
        "Salary_Eligibility = int(input(\"Enter a value: \"))\n",
        "Willingness = input(\"Enter a value: \")\n",
        "Immediate_Joinee = input(\"Enter a value: \")\n",
        "if Employment == \"Layoff\" and Salary_Eligibility >= Salary and Willingness == 'Yes' and Immediate_Joinee == 'Yes':\n",
        "    print('You are eligible')\n",
        "else:\n",
        "    print('You are not eligible')\n",
        "print()"
      ],
      "execution_count": null,
      "outputs": [
        {
          "output_type": "stream",
          "text": [
            "Enter the reason: Layoff\n",
            "Enter a value: 12000\n",
            "Enter a value: 15000\n",
            "Enter a value: 150000\n",
            "You are not eligible\n",
            "\n"
          ],
          "name": "stdout"
        }
      ]
    },
    {
      "cell_type": "markdown",
      "metadata": {
        "id": "JwPbvbBEfBRX"
      },
      "source": [
        "## Questions\n",
        "\n",
        "What's at least one question you had from the tutorials? `Start a New Conversation` in [the Forum](https://newclasses.nyu.edu/portal/site/c07b0a52-cea7-453b-8198-4b59fdeb32f0/tool/4521fda4-a04b-471d-9042-426a7b9f218e/discussionForum/message/dfAllMessages)."
      ]
    }
  ]
}